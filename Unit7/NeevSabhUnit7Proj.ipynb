{
  "nbformat": 4,
  "nbformat_minor": 0,
  "metadata": {
    "colab": {
      "provenance": [],
      "authorship_tag": "ABX9TyNWmeV3qX/oHtGdnU1trxZF",
      "include_colab_link": true
    },
    "kernelspec": {
      "name": "python3",
      "display_name": "Python 3"
    },
    "language_info": {
      "name": "python"
    },
    "widgets": {
      "application/vnd.jupyter.widget-state+json": {
        "80d7fd547157489ea70d7655bb21a29d": {
          "model_module": "@jupyter-widgets/output",
          "model_name": "OutputModel",
          "model_module_version": "1.0.0",
          "state": {
            "_dom_classes": [],
            "_model_module": "@jupyter-widgets/output",
            "_model_module_version": "1.0.0",
            "_model_name": "OutputModel",
            "_view_count": null,
            "_view_module": "@jupyter-widgets/output",
            "_view_module_version": "1.0.0",
            "_view_name": "OutputView",
            "layout": "IPY_MODEL_98d5d16477784bf89b9eb62c337a95de",
            "msg_id": "",
            "outputs": [
              {
                "output_type": "display_data",
                "data": {
                  "text/plain": "                                                                                                                   \n \u001b[1m \u001b[0m\u001b[1mProgress                 \u001b[0m\u001b[1m \u001b[0m \u001b[1m \u001b[0m\u001b[1mDraws\u001b[0m\u001b[1m \u001b[0m \u001b[1m \u001b[0m\u001b[1mDivergences\u001b[0m\u001b[1m \u001b[0m \u001b[1m \u001b[0m\u001b[1mStep size\u001b[0m\u001b[1m \u001b[0m \u001b[1m \u001b[0m\u001b[1mGrad evals\u001b[0m\u001b[1m \u001b[0m \u001b[1m \u001b[0m\u001b[1mSampling Speed\u001b[0m\u001b[1m \u001b[0m \u001b[1m \u001b[0m\u001b[1mElapsed\u001b[0m\u001b[1m \u001b[0m \u001b[1m \u001b[0m\u001b[1mRemaining\u001b[0m\u001b[1m \u001b[0m \n ───────────────────────────────────────────────────────────────────────────────────────────────────────────────── \n  \u001b[38;2;31;119;180m━━━━━━━━━━━━━━━━━━━━━━━━━\u001b[0m   2000    0             0.95        3            677.07 draws/s   0:00:02   0:00:00    \n  \u001b[38;2;31;119;180m━━━━━━━━━━━━━━━━━━━━━━━━━\u001b[0m   2000    0             0.94        7            336.88 draws/s   0:00:05   0:00:00    \n                                                                                                                   \n",
                  "text/html": "<pre style=\"white-space:pre;overflow-x:auto;line-height:normal;font-family:Menlo,'DejaVu Sans Mono',consolas,'Courier New',monospace\">                                                                                                                   \n <span style=\"font-weight: bold\"> Progress                  </span> <span style=\"font-weight: bold\"> Draws </span> <span style=\"font-weight: bold\"> Divergences </span> <span style=\"font-weight: bold\"> Step size </span> <span style=\"font-weight: bold\"> Grad evals </span> <span style=\"font-weight: bold\"> Sampling Speed </span> <span style=\"font-weight: bold\"> Elapsed </span> <span style=\"font-weight: bold\"> Remaining </span> \n ───────────────────────────────────────────────────────────────────────────────────────────────────────────────── \n  <span style=\"color: #1f77b4; text-decoration-color: #1f77b4\">━━━━━━━━━━━━━━━━━━━━━━━━━</span>   2000    0             0.95        3            677.07 draws/s   0:00:02   0:00:00    \n  <span style=\"color: #1f77b4; text-decoration-color: #1f77b4\">━━━━━━━━━━━━━━━━━━━━━━━━━</span>   2000    0             0.94        7            336.88 draws/s   0:00:05   0:00:00    \n                                                                                                                   \n</pre>\n"
                },
                "metadata": {}
              }
            ]
          }
        },
        "98d5d16477784bf89b9eb62c337a95de": {
          "model_module": "@jupyter-widgets/base",
          "model_name": "LayoutModel",
          "model_module_version": "1.2.0",
          "state": {
            "_model_module": "@jupyter-widgets/base",
            "_model_module_version": "1.2.0",
            "_model_name": "LayoutModel",
            "_view_count": null,
            "_view_module": "@jupyter-widgets/base",
            "_view_module_version": "1.2.0",
            "_view_name": "LayoutView",
            "align_content": null,
            "align_items": null,
            "align_self": null,
            "border": null,
            "bottom": null,
            "display": null,
            "flex": null,
            "flex_flow": null,
            "grid_area": null,
            "grid_auto_columns": null,
            "grid_auto_flow": null,
            "grid_auto_rows": null,
            "grid_column": null,
            "grid_gap": null,
            "grid_row": null,
            "grid_template_areas": null,
            "grid_template_columns": null,
            "grid_template_rows": null,
            "height": null,
            "justify_content": null,
            "justify_items": null,
            "left": null,
            "margin": null,
            "max_height": null,
            "max_width": null,
            "min_height": null,
            "min_width": null,
            "object_fit": null,
            "object_position": null,
            "order": null,
            "overflow": null,
            "overflow_x": null,
            "overflow_y": null,
            "padding": null,
            "right": null,
            "top": null,
            "visibility": null,
            "width": null
          }
        },
        "32286e7ddb394795a33c67dcae2eafe2": {
          "model_module": "@jupyter-widgets/output",
          "model_name": "OutputModel",
          "model_module_version": "1.0.0",
          "state": {
            "_dom_classes": [],
            "_model_module": "@jupyter-widgets/output",
            "_model_module_version": "1.0.0",
            "_model_name": "OutputModel",
            "_view_count": null,
            "_view_module": "@jupyter-widgets/output",
            "_view_module_version": "1.0.0",
            "_view_name": "OutputView",
            "layout": "IPY_MODEL_9457a452939b475da6ec833bff22424d",
            "msg_id": "",
            "outputs": [
              {
                "output_type": "display_data",
                "data": {
                  "text/plain": "                                                                                                                   \n \u001b[1m \u001b[0m\u001b[1mProgress                 \u001b[0m\u001b[1m \u001b[0m \u001b[1m \u001b[0m\u001b[1mDraws\u001b[0m\u001b[1m \u001b[0m \u001b[1m \u001b[0m\u001b[1mDivergences\u001b[0m\u001b[1m \u001b[0m \u001b[1m \u001b[0m\u001b[1mStep size\u001b[0m\u001b[1m \u001b[0m \u001b[1m \u001b[0m\u001b[1mGrad evals\u001b[0m\u001b[1m \u001b[0m \u001b[1m \u001b[0m\u001b[1mSampling Speed\u001b[0m\u001b[1m \u001b[0m \u001b[1m \u001b[0m\u001b[1mElapsed\u001b[0m\u001b[1m \u001b[0m \u001b[1m \u001b[0m\u001b[1mRemaining\u001b[0m\u001b[1m \u001b[0m \n ───────────────────────────────────────────────────────────────────────────────────────────────────────────────── \n  \u001b[38;2;31;119;180m━━━━━━━━━━━━━━━━━━━━━━━━━\u001b[0m   2000    0             0.42        15           584.93 draws/s   0:00:03   0:00:00    \n  \u001b[38;2;31;119;180m━━━━━━━━━━━━━━━━━━━━━━━━━\u001b[0m   2000    0             0.43        15           249.35 draws/s   0:00:08   0:00:00    \n                                                                                                                   \n",
                  "text/html": "<pre style=\"white-space:pre;overflow-x:auto;line-height:normal;font-family:Menlo,'DejaVu Sans Mono',consolas,'Courier New',monospace\">                                                                                                                   \n <span style=\"font-weight: bold\"> Progress                  </span> <span style=\"font-weight: bold\"> Draws </span> <span style=\"font-weight: bold\"> Divergences </span> <span style=\"font-weight: bold\"> Step size </span> <span style=\"font-weight: bold\"> Grad evals </span> <span style=\"font-weight: bold\"> Sampling Speed </span> <span style=\"font-weight: bold\"> Elapsed </span> <span style=\"font-weight: bold\"> Remaining </span> \n ───────────────────────────────────────────────────────────────────────────────────────────────────────────────── \n  <span style=\"color: #1f77b4; text-decoration-color: #1f77b4\">━━━━━━━━━━━━━━━━━━━━━━━━━</span>   2000    0             0.42        15           584.93 draws/s   0:00:03   0:00:00    \n  <span style=\"color: #1f77b4; text-decoration-color: #1f77b4\">━━━━━━━━━━━━━━━━━━━━━━━━━</span>   2000    0             0.43        15           249.35 draws/s   0:00:08   0:00:00    \n                                                                                                                   \n</pre>\n"
                },
                "metadata": {}
              }
            ]
          }
        },
        "9457a452939b475da6ec833bff22424d": {
          "model_module": "@jupyter-widgets/base",
          "model_name": "LayoutModel",
          "model_module_version": "1.2.0",
          "state": {
            "_model_module": "@jupyter-widgets/base",
            "_model_module_version": "1.2.0",
            "_model_name": "LayoutModel",
            "_view_count": null,
            "_view_module": "@jupyter-widgets/base",
            "_view_module_version": "1.2.0",
            "_view_name": "LayoutView",
            "align_content": null,
            "align_items": null,
            "align_self": null,
            "border": null,
            "bottom": null,
            "display": null,
            "flex": null,
            "flex_flow": null,
            "grid_area": null,
            "grid_auto_columns": null,
            "grid_auto_flow": null,
            "grid_auto_rows": null,
            "grid_column": null,
            "grid_gap": null,
            "grid_row": null,
            "grid_template_areas": null,
            "grid_template_columns": null,
            "grid_template_rows": null,
            "height": null,
            "justify_content": null,
            "justify_items": null,
            "left": null,
            "margin": null,
            "max_height": null,
            "max_width": null,
            "min_height": null,
            "min_width": null,
            "object_fit": null,
            "object_position": null,
            "order": null,
            "overflow": null,
            "overflow_x": null,
            "overflow_y": null,
            "padding": null,
            "right": null,
            "top": null,
            "visibility": null,
            "width": null
          }
        },
        "bac6791551734e2f89b81882f3f5ed2b": {
          "model_module": "@jupyter-widgets/output",
          "model_name": "OutputModel",
          "model_module_version": "1.0.0",
          "state": {
            "_dom_classes": [],
            "_model_module": "@jupyter-widgets/output",
            "_model_module_version": "1.0.0",
            "_model_name": "OutputModel",
            "_view_count": null,
            "_view_module": "@jupyter-widgets/output",
            "_view_module_version": "1.0.0",
            "_view_name": "OutputView",
            "layout": "IPY_MODEL_43deb2e3813f4b91819c57d8c2f6eaff",
            "msg_id": "",
            "outputs": [
              {
                "output_type": "display_data",
                "data": {
                  "text/plain": "                                                                                                                   \n \u001b[1m \u001b[0m\u001b[1mProgress                 \u001b[0m\u001b[1m \u001b[0m \u001b[1m \u001b[0m\u001b[1mDraws\u001b[0m\u001b[1m \u001b[0m \u001b[1m \u001b[0m\u001b[1mDivergences\u001b[0m\u001b[1m \u001b[0m \u001b[1m \u001b[0m\u001b[1mStep size\u001b[0m\u001b[1m \u001b[0m \u001b[1m \u001b[0m\u001b[1mGrad evals\u001b[0m\u001b[1m \u001b[0m \u001b[1m \u001b[0m\u001b[1mSampling Speed\u001b[0m\u001b[1m \u001b[0m \u001b[1m \u001b[0m\u001b[1mElapsed\u001b[0m\u001b[1m \u001b[0m \u001b[1m \u001b[0m\u001b[1mRemaining\u001b[0m\u001b[1m \u001b[0m \n ───────────────────────────────────────────────────────────────────────────────────────────────────────────────── \n  \u001b[38;2;31;119;180m━━━━━━━━━━━━━━━━━━━━━━━━━\u001b[0m   2000    0             0.35        15           377.92 draws/s   0:00:05   0:00:00    \n  \u001b[38;2;31;119;180m━━━━━━━━━━━━━━━━━━━━━━━━━\u001b[0m   2000    0             0.32        31           169.10 draws/s   0:00:11   0:00:00    \n                                                                                                                   \n",
                  "text/html": "<pre style=\"white-space:pre;overflow-x:auto;line-height:normal;font-family:Menlo,'DejaVu Sans Mono',consolas,'Courier New',monospace\">                                                                                                                   \n <span style=\"font-weight: bold\"> Progress                  </span> <span style=\"font-weight: bold\"> Draws </span> <span style=\"font-weight: bold\"> Divergences </span> <span style=\"font-weight: bold\"> Step size </span> <span style=\"font-weight: bold\"> Grad evals </span> <span style=\"font-weight: bold\"> Sampling Speed </span> <span style=\"font-weight: bold\"> Elapsed </span> <span style=\"font-weight: bold\"> Remaining </span> \n ───────────────────────────────────────────────────────────────────────────────────────────────────────────────── \n  <span style=\"color: #1f77b4; text-decoration-color: #1f77b4\">━━━━━━━━━━━━━━━━━━━━━━━━━</span>   2000    0             0.35        15           377.92 draws/s   0:00:05   0:00:00    \n  <span style=\"color: #1f77b4; text-decoration-color: #1f77b4\">━━━━━━━━━━━━━━━━━━━━━━━━━</span>   2000    0             0.32        31           169.10 draws/s   0:00:11   0:00:00    \n                                                                                                                   \n</pre>\n"
                },
                "metadata": {}
              }
            ]
          }
        },
        "43deb2e3813f4b91819c57d8c2f6eaff": {
          "model_module": "@jupyter-widgets/base",
          "model_name": "LayoutModel",
          "model_module_version": "1.2.0",
          "state": {
            "_model_module": "@jupyter-widgets/base",
            "_model_module_version": "1.2.0",
            "_model_name": "LayoutModel",
            "_view_count": null,
            "_view_module": "@jupyter-widgets/base",
            "_view_module_version": "1.2.0",
            "_view_name": "LayoutView",
            "align_content": null,
            "align_items": null,
            "align_self": null,
            "border": null,
            "bottom": null,
            "display": null,
            "flex": null,
            "flex_flow": null,
            "grid_area": null,
            "grid_auto_columns": null,
            "grid_auto_flow": null,
            "grid_auto_rows": null,
            "grid_column": null,
            "grid_gap": null,
            "grid_row": null,
            "grid_template_areas": null,
            "grid_template_columns": null,
            "grid_template_rows": null,
            "height": null,
            "justify_content": null,
            "justify_items": null,
            "left": null,
            "margin": null,
            "max_height": null,
            "max_width": null,
            "min_height": null,
            "min_width": null,
            "object_fit": null,
            "object_position": null,
            "order": null,
            "overflow": null,
            "overflow_x": null,
            "overflow_y": null,
            "padding": null,
            "right": null,
            "top": null,
            "visibility": null,
            "width": null
          }
        },
        "2e414b3036444890b84d1e8215f4325b": {
          "model_module": "@jupyter-widgets/output",
          "model_name": "OutputModel",
          "model_module_version": "1.0.0",
          "state": {
            "_dom_classes": [],
            "_model_module": "@jupyter-widgets/output",
            "_model_module_version": "1.0.0",
            "_model_name": "OutputModel",
            "_view_count": null,
            "_view_module": "@jupyter-widgets/output",
            "_view_module_version": "1.0.0",
            "_view_name": "OutputView",
            "layout": "IPY_MODEL_80dc7a4bb90b49c7a9a85bbfb4170441",
            "msg_id": "",
            "outputs": [
              {
                "output_type": "display_data",
                "data": {
                  "text/plain": "                                                                                                                   \n \u001b[1m \u001b[0m\u001b[1mProgress                 \u001b[0m\u001b[1m \u001b[0m \u001b[1m \u001b[0m\u001b[1mDraws\u001b[0m\u001b[1m \u001b[0m \u001b[1m \u001b[0m\u001b[1mDivergences\u001b[0m\u001b[1m \u001b[0m \u001b[1m \u001b[0m\u001b[1mStep size\u001b[0m\u001b[1m \u001b[0m \u001b[1m \u001b[0m\u001b[1mGrad evals\u001b[0m\u001b[1m \u001b[0m \u001b[1m \u001b[0m\u001b[1mSampling Speed\u001b[0m\u001b[1m \u001b[0m \u001b[1m \u001b[0m\u001b[1mElapsed\u001b[0m\u001b[1m \u001b[0m \u001b[1m \u001b[0m\u001b[1mRemaining\u001b[0m\u001b[1m \u001b[0m \n ───────────────────────────────────────────────────────────────────────────────────────────────────────────────── \n  \u001b[38;2;31;119;180m━━━━━━━━━━━━━━━━━━━━━━━━━\u001b[0m   2000    0             0.42        15           354.82 draws/s   0:00:05   0:00:00    \n  \u001b[38;2;31;119;180m━━━━━━━━━━━━━━━━━━━━━━━━━\u001b[0m   2000    0             0.21        15           160.47 draws/s   0:00:12   0:00:00    \n                                                                                                                   \n",
                  "text/html": "<pre style=\"white-space:pre;overflow-x:auto;line-height:normal;font-family:Menlo,'DejaVu Sans Mono',consolas,'Courier New',monospace\">                                                                                                                   \n <span style=\"font-weight: bold\"> Progress                  </span> <span style=\"font-weight: bold\"> Draws </span> <span style=\"font-weight: bold\"> Divergences </span> <span style=\"font-weight: bold\"> Step size </span> <span style=\"font-weight: bold\"> Grad evals </span> <span style=\"font-weight: bold\"> Sampling Speed </span> <span style=\"font-weight: bold\"> Elapsed </span> <span style=\"font-weight: bold\"> Remaining </span> \n ───────────────────────────────────────────────────────────────────────────────────────────────────────────────── \n  <span style=\"color: #1f77b4; text-decoration-color: #1f77b4\">━━━━━━━━━━━━━━━━━━━━━━━━━</span>   2000    0             0.42        15           354.82 draws/s   0:00:05   0:00:00    \n  <span style=\"color: #1f77b4; text-decoration-color: #1f77b4\">━━━━━━━━━━━━━━━━━━━━━━━━━</span>   2000    0             0.21        15           160.47 draws/s   0:00:12   0:00:00    \n                                                                                                                   \n</pre>\n"
                },
                "metadata": {}
              }
            ]
          }
        },
        "80dc7a4bb90b49c7a9a85bbfb4170441": {
          "model_module": "@jupyter-widgets/base",
          "model_name": "LayoutModel",
          "model_module_version": "1.2.0",
          "state": {
            "_model_module": "@jupyter-widgets/base",
            "_model_module_version": "1.2.0",
            "_model_name": "LayoutModel",
            "_view_count": null,
            "_view_module": "@jupyter-widgets/base",
            "_view_module_version": "1.2.0",
            "_view_name": "LayoutView",
            "align_content": null,
            "align_items": null,
            "align_self": null,
            "border": null,
            "bottom": null,
            "display": null,
            "flex": null,
            "flex_flow": null,
            "grid_area": null,
            "grid_auto_columns": null,
            "grid_auto_flow": null,
            "grid_auto_rows": null,
            "grid_column": null,
            "grid_gap": null,
            "grid_row": null,
            "grid_template_areas": null,
            "grid_template_columns": null,
            "grid_template_rows": null,
            "height": null,
            "justify_content": null,
            "justify_items": null,
            "left": null,
            "margin": null,
            "max_height": null,
            "max_width": null,
            "min_height": null,
            "min_width": null,
            "object_fit": null,
            "object_position": null,
            "order": null,
            "overflow": null,
            "overflow_x": null,
            "overflow_y": null,
            "padding": null,
            "right": null,
            "top": null,
            "visibility": null,
            "width": null
          }
        },
        "d78e524d43de4d05a06eac1400e9cbd5": {
          "model_module": "@jupyter-widgets/output",
          "model_name": "OutputModel",
          "model_module_version": "1.0.0",
          "state": {
            "_dom_classes": [],
            "_model_module": "@jupyter-widgets/output",
            "_model_module_version": "1.0.0",
            "_model_name": "OutputModel",
            "_view_count": null,
            "_view_module": "@jupyter-widgets/output",
            "_view_module_version": "1.0.0",
            "_view_name": "OutputView",
            "layout": "IPY_MODEL_7c0d0c273c9a464984e2d8d86979fde5",
            "msg_id": "",
            "outputs": [
              {
                "output_type": "display_data",
                "data": {
                  "text/plain": "                                                                                                                   \n \u001b[1m \u001b[0m\u001b[1mProgress                 \u001b[0m\u001b[1m \u001b[0m \u001b[1m \u001b[0m\u001b[1mDraws\u001b[0m\u001b[1m \u001b[0m \u001b[1m \u001b[0m\u001b[1mDivergences\u001b[0m\u001b[1m \u001b[0m \u001b[1m \u001b[0m\u001b[1mStep size\u001b[0m\u001b[1m \u001b[0m \u001b[1m \u001b[0m\u001b[1mGrad evals\u001b[0m\u001b[1m \u001b[0m \u001b[1m \u001b[0m\u001b[1mSampling Speed\u001b[0m\u001b[1m \u001b[0m \u001b[1m \u001b[0m\u001b[1mElapsed\u001b[0m\u001b[1m \u001b[0m \u001b[1m \u001b[0m\u001b[1mRemaining\u001b[0m\u001b[1m \u001b[0m \n ───────────────────────────────────────────────────────────────────────────────────────────────────────────────── \n  \u001b[38;2;31;119;180m━━━━━━━━━━━━━━━━━━━━━━━━━\u001b[0m   2000    0             0.26        15           308.97 draws/s   0:00:06   0:00:00    \n  \u001b[38;2;31;119;180m━━━━━━━━━━━━━━━━━━━━━━━━━\u001b[0m   2000    0             0.36        7            163.68 draws/s   0:00:12   0:00:00    \n                                                                                                                   \n",
                  "text/html": "<pre style=\"white-space:pre;overflow-x:auto;line-height:normal;font-family:Menlo,'DejaVu Sans Mono',consolas,'Courier New',monospace\">                                                                                                                   \n <span style=\"font-weight: bold\"> Progress                  </span> <span style=\"font-weight: bold\"> Draws </span> <span style=\"font-weight: bold\"> Divergences </span> <span style=\"font-weight: bold\"> Step size </span> <span style=\"font-weight: bold\"> Grad evals </span> <span style=\"font-weight: bold\"> Sampling Speed </span> <span style=\"font-weight: bold\"> Elapsed </span> <span style=\"font-weight: bold\"> Remaining </span> \n ───────────────────────────────────────────────────────────────────────────────────────────────────────────────── \n  <span style=\"color: #1f77b4; text-decoration-color: #1f77b4\">━━━━━━━━━━━━━━━━━━━━━━━━━</span>   2000    0             0.26        15           308.97 draws/s   0:00:06   0:00:00    \n  <span style=\"color: #1f77b4; text-decoration-color: #1f77b4\">━━━━━━━━━━━━━━━━━━━━━━━━━</span>   2000    0             0.36        7            163.68 draws/s   0:00:12   0:00:00    \n                                                                                                                   \n</pre>\n"
                },
                "metadata": {}
              }
            ]
          }
        },
        "7c0d0c273c9a464984e2d8d86979fde5": {
          "model_module": "@jupyter-widgets/base",
          "model_name": "LayoutModel",
          "model_module_version": "1.2.0",
          "state": {
            "_model_module": "@jupyter-widgets/base",
            "_model_module_version": "1.2.0",
            "_model_name": "LayoutModel",
            "_view_count": null,
            "_view_module": "@jupyter-widgets/base",
            "_view_module_version": "1.2.0",
            "_view_name": "LayoutView",
            "align_content": null,
            "align_items": null,
            "align_self": null,
            "border": null,
            "bottom": null,
            "display": null,
            "flex": null,
            "flex_flow": null,
            "grid_area": null,
            "grid_auto_columns": null,
            "grid_auto_flow": null,
            "grid_auto_rows": null,
            "grid_column": null,
            "grid_gap": null,
            "grid_row": null,
            "grid_template_areas": null,
            "grid_template_columns": null,
            "grid_template_rows": null,
            "height": null,
            "justify_content": null,
            "justify_items": null,
            "left": null,
            "margin": null,
            "max_height": null,
            "max_width": null,
            "min_height": null,
            "min_width": null,
            "object_fit": null,
            "object_position": null,
            "order": null,
            "overflow": null,
            "overflow_x": null,
            "overflow_y": null,
            "padding": null,
            "right": null,
            "top": null,
            "visibility": null,
            "width": null
          }
        },
        "17e8504ad5ff4e188989542f8fc1b6b9": {
          "model_module": "@jupyter-widgets/output",
          "model_name": "OutputModel",
          "model_module_version": "1.0.0",
          "state": {
            "_dom_classes": [],
            "_model_module": "@jupyter-widgets/output",
            "_model_module_version": "1.0.0",
            "_model_name": "OutputModel",
            "_view_count": null,
            "_view_module": "@jupyter-widgets/output",
            "_view_module_version": "1.0.0",
            "_view_name": "OutputView",
            "layout": "IPY_MODEL_804a6251f33c4f579fdc0982906690bb",
            "msg_id": "",
            "outputs": [
              {
                "output_type": "display_data",
                "data": {
                  "text/plain": "                                                                                                                   \n \u001b[1m \u001b[0m\u001b[1mProgress                 \u001b[0m\u001b[1m \u001b[0m \u001b[1m \u001b[0m\u001b[1mDraws\u001b[0m\u001b[1m \u001b[0m \u001b[1m \u001b[0m\u001b[1mDivergences\u001b[0m\u001b[1m \u001b[0m \u001b[1m \u001b[0m\u001b[1mStep size\u001b[0m\u001b[1m \u001b[0m \u001b[1m \u001b[0m\u001b[1mGrad evals\u001b[0m\u001b[1m \u001b[0m \u001b[1m \u001b[0m\u001b[1mSampling Speed\u001b[0m\u001b[1m \u001b[0m \u001b[1m \u001b[0m\u001b[1mElapsed\u001b[0m\u001b[1m \u001b[0m \u001b[1m \u001b[0m\u001b[1mRemaining\u001b[0m\u001b[1m \u001b[0m \n ───────────────────────────────────────────────────────────────────────────────────────────────────────────────── \n  \u001b[38;2;31;119;180m━━━━━━━━━━━━━━━━━━━━━━━━━\u001b[0m   2000    0             0.26        15           283.34 draws/s   0:00:07   0:00:00    \n  \u001b[38;2;31;119;180m━━━━━━━━━━━━━━━━━━━━━━━━━\u001b[0m   2000    0             0.24        15           129.75 draws/s   0:00:15   0:00:00    \n                                                                                                                   \n",
                  "text/html": "<pre style=\"white-space:pre;overflow-x:auto;line-height:normal;font-family:Menlo,'DejaVu Sans Mono',consolas,'Courier New',monospace\">                                                                                                                   \n <span style=\"font-weight: bold\"> Progress                  </span> <span style=\"font-weight: bold\"> Draws </span> <span style=\"font-weight: bold\"> Divergences </span> <span style=\"font-weight: bold\"> Step size </span> <span style=\"font-weight: bold\"> Grad evals </span> <span style=\"font-weight: bold\"> Sampling Speed </span> <span style=\"font-weight: bold\"> Elapsed </span> <span style=\"font-weight: bold\"> Remaining </span> \n ───────────────────────────────────────────────────────────────────────────────────────────────────────────────── \n  <span style=\"color: #1f77b4; text-decoration-color: #1f77b4\">━━━━━━━━━━━━━━━━━━━━━━━━━</span>   2000    0             0.26        15           283.34 draws/s   0:00:07   0:00:00    \n  <span style=\"color: #1f77b4; text-decoration-color: #1f77b4\">━━━━━━━━━━━━━━━━━━━━━━━━━</span>   2000    0             0.24        15           129.75 draws/s   0:00:15   0:00:00    \n                                                                                                                   \n</pre>\n"
                },
                "metadata": {}
              }
            ]
          }
        },
        "804a6251f33c4f579fdc0982906690bb": {
          "model_module": "@jupyter-widgets/base",
          "model_name": "LayoutModel",
          "model_module_version": "1.2.0",
          "state": {
            "_model_module": "@jupyter-widgets/base",
            "_model_module_version": "1.2.0",
            "_model_name": "LayoutModel",
            "_view_count": null,
            "_view_module": "@jupyter-widgets/base",
            "_view_module_version": "1.2.0",
            "_view_name": "LayoutView",
            "align_content": null,
            "align_items": null,
            "align_self": null,
            "border": null,
            "bottom": null,
            "display": null,
            "flex": null,
            "flex_flow": null,
            "grid_area": null,
            "grid_auto_columns": null,
            "grid_auto_flow": null,
            "grid_auto_rows": null,
            "grid_column": null,
            "grid_gap": null,
            "grid_row": null,
            "grid_template_areas": null,
            "grid_template_columns": null,
            "grid_template_rows": null,
            "height": null,
            "justify_content": null,
            "justify_items": null,
            "left": null,
            "margin": null,
            "max_height": null,
            "max_width": null,
            "min_height": null,
            "min_width": null,
            "object_fit": null,
            "object_position": null,
            "order": null,
            "overflow": null,
            "overflow_x": null,
            "overflow_y": null,
            "padding": null,
            "right": null,
            "top": null,
            "visibility": null,
            "width": null
          }
        }
      }
    }
  },
  "cells": [
    {
      "cell_type": "markdown",
      "metadata": {
        "id": "view-in-github",
        "colab_type": "text"
      },
      "source": [
        "<a href=\"https://colab.research.google.com/github/NeevSabhani/Data-Science/blob/main/Unit7/NeevSabhUnit7Proj.ipynb\" target=\"_parent\"><img src=\"https://colab.research.google.com/assets/colab-badge.svg\" alt=\"Open In Colab\"/></a>"
      ]
    },
    {
      "cell_type": "code",
      "execution_count": 1,
      "metadata": {
        "colab": {
          "base_uri": "https://localhost:8080/"
        },
        "id": "m69YrWm8nNQO",
        "outputId": "d7d2115d-3b4b-4307-a16b-e3199c62cfec",
        "collapsed": true
      },
      "outputs": [
        {
          "output_type": "stream",
          "name": "stdout",
          "text": [
            "Collecting git+https://github.com/pydata/xarray.git\n",
            "  Cloning https://github.com/pydata/xarray.git to /tmp/pip-req-build-e1t0x_pc\n",
            "  Running command git clone --filter=blob:none --quiet https://github.com/pydata/xarray.git /tmp/pip-req-build-e1t0x_pc\n",
            "  Resolved https://github.com/pydata/xarray.git to commit 0184702f16c3f744fc9096c7dac690626dcc6922\n",
            "  Installing build dependencies ... \u001b[?25l\u001b[?25hdone\n",
            "  Getting requirements to build wheel ... \u001b[?25l\u001b[?25hdone\n",
            "  Preparing metadata (pyproject.toml) ... \u001b[?25l\u001b[?25hdone\n",
            "Requirement already satisfied: numpy>=1.24 in /usr/local/lib/python3.11/dist-packages (from xarray==2025.1.3.dev22+g0184702f) (1.26.4)\n",
            "Requirement already satisfied: packaging>=23.2 in /usr/local/lib/python3.11/dist-packages (from xarray==2025.1.3.dev22+g0184702f) (24.2)\n",
            "Requirement already satisfied: pandas>=2.1 in /usr/local/lib/python3.11/dist-packages (from xarray==2025.1.3.dev22+g0184702f) (2.2.2)\n",
            "Requirement already satisfied: python-dateutil>=2.8.2 in /usr/local/lib/python3.11/dist-packages (from pandas>=2.1->xarray==2025.1.3.dev22+g0184702f) (2.8.2)\n",
            "Requirement already satisfied: pytz>=2020.1 in /usr/local/lib/python3.11/dist-packages (from pandas>=2.1->xarray==2025.1.3.dev22+g0184702f) (2025.1)\n",
            "Requirement already satisfied: tzdata>=2022.7 in /usr/local/lib/python3.11/dist-packages (from pandas>=2.1->xarray==2025.1.3.dev22+g0184702f) (2025.1)\n",
            "Requirement already satisfied: six>=1.5 in /usr/local/lib/python3.11/dist-packages (from python-dateutil>=2.8.2->pandas>=2.1->xarray==2025.1.3.dev22+g0184702f) (1.17.0)\n",
            "Building wheels for collected packages: xarray\n",
            "  Building wheel for xarray (pyproject.toml) ... \u001b[?25l\u001b[?25hdone\n",
            "  Created wheel for xarray: filename=xarray-2025.1.3.dev22+g0184702f-py3-none-any.whl size=1262235 sha256=7defbf7b9aa95cf809b04798131cc84f207e682e8c6a2263b6cb73d8162dec6a\n",
            "  Stored in directory: /tmp/pip-ephem-wheel-cache-ezn5y929/wheels/15/f9/46/ac58ec95d7761bd0b92f54d99c5d132719866f63745c3702ed\n",
            "Successfully built xarray\n",
            "Installing collected packages: xarray\n",
            "  Attempting uninstall: xarray\n",
            "    Found existing installation: xarray 2025.1.2\n",
            "    Uninstalling xarray-2025.1.2:\n",
            "      Successfully uninstalled xarray-2025.1.2\n",
            "Successfully installed xarray-2025.1.3.dev22+g0184702f\n",
            "Collecting bambi\n",
            "  Downloading bambi-0.15.0-py3-none-any.whl.metadata (8.8 kB)\n",
            "Requirement already satisfied: arviz>=0.12.0 in /usr/local/lib/python3.11/dist-packages (from bambi) (0.20.0)\n",
            "Collecting formulae>=0.5.3 (from bambi)\n",
            "  Downloading formulae-0.5.4-py3-none-any.whl.metadata (4.5 kB)\n",
            "Requirement already satisfied: graphviz in /usr/local/lib/python3.11/dist-packages (from bambi) (0.20.3)\n",
            "Requirement already satisfied: pandas>=1.0.0 in /usr/local/lib/python3.11/dist-packages (from bambi) (2.2.2)\n",
            "Requirement already satisfied: pymc>=5.18.0 in /usr/local/lib/python3.11/dist-packages (from bambi) (5.20.1)\n",
            "Requirement already satisfied: setuptools>=60.0.0 in /usr/local/lib/python3.11/dist-packages (from arviz>=0.12.0->bambi) (75.1.0)\n",
            "Requirement already satisfied: matplotlib>=3.5 in /usr/local/lib/python3.11/dist-packages (from arviz>=0.12.0->bambi) (3.10.0)\n",
            "Requirement already satisfied: numpy>=1.23.0 in /usr/local/lib/python3.11/dist-packages (from arviz>=0.12.0->bambi) (1.26.4)\n",
            "Requirement already satisfied: scipy>=1.9.0 in /usr/local/lib/python3.11/dist-packages (from arviz>=0.12.0->bambi) (1.13.1)\n",
            "Requirement already satisfied: packaging in /usr/local/lib/python3.11/dist-packages (from arviz>=0.12.0->bambi) (24.2)\n",
            "Requirement already satisfied: xarray>=2022.6.0 in /usr/local/lib/python3.11/dist-packages (from arviz>=0.12.0->bambi) (2025.1.3.dev22+g0184702f)\n",
            "Requirement already satisfied: h5netcdf>=1.0.2 in /usr/local/lib/python3.11/dist-packages (from arviz>=0.12.0->bambi) (1.5.0)\n",
            "Requirement already satisfied: typing-extensions>=4.1.0 in /usr/local/lib/python3.11/dist-packages (from arviz>=0.12.0->bambi) (4.12.2)\n",
            "Requirement already satisfied: xarray-einstats>=0.3 in /usr/local/lib/python3.11/dist-packages (from arviz>=0.12.0->bambi) (0.8.0)\n",
            "Requirement already satisfied: python-dateutil>=2.8.2 in /usr/local/lib/python3.11/dist-packages (from pandas>=1.0.0->bambi) (2.8.2)\n",
            "Requirement already satisfied: pytz>=2020.1 in /usr/local/lib/python3.11/dist-packages (from pandas>=1.0.0->bambi) (2025.1)\n",
            "Requirement already satisfied: tzdata>=2022.7 in /usr/local/lib/python3.11/dist-packages (from pandas>=1.0.0->bambi) (2025.1)\n",
            "Requirement already satisfied: cachetools>=4.2.1 in /usr/local/lib/python3.11/dist-packages (from pymc>=5.18.0->bambi) (5.5.2)\n",
            "Requirement already satisfied: cloudpickle in /usr/local/lib/python3.11/dist-packages (from pymc>=5.18.0->bambi) (3.1.1)\n",
            "Requirement already satisfied: pytensor<2.28,>=2.26.1 in /usr/local/lib/python3.11/dist-packages (from pymc>=5.18.0->bambi) (2.27.1)\n",
            "Requirement already satisfied: rich>=13.7.1 in /usr/local/lib/python3.11/dist-packages (from pymc>=5.18.0->bambi) (13.9.4)\n",
            "Requirement already satisfied: threadpoolctl<4.0.0,>=3.1.0 in /usr/local/lib/python3.11/dist-packages (from pymc>=5.18.0->bambi) (3.5.0)\n",
            "Requirement already satisfied: h5py in /usr/local/lib/python3.11/dist-packages (from h5netcdf>=1.0.2->arviz>=0.12.0->bambi) (3.12.1)\n",
            "Requirement already satisfied: contourpy>=1.0.1 in /usr/local/lib/python3.11/dist-packages (from matplotlib>=3.5->arviz>=0.12.0->bambi) (1.3.1)\n",
            "Requirement already satisfied: cycler>=0.10 in /usr/local/lib/python3.11/dist-packages (from matplotlib>=3.5->arviz>=0.12.0->bambi) (0.12.1)\n",
            "Requirement already satisfied: fonttools>=4.22.0 in /usr/local/lib/python3.11/dist-packages (from matplotlib>=3.5->arviz>=0.12.0->bambi) (4.56.0)\n",
            "Requirement already satisfied: kiwisolver>=1.3.1 in /usr/local/lib/python3.11/dist-packages (from matplotlib>=3.5->arviz>=0.12.0->bambi) (1.4.8)\n",
            "Requirement already satisfied: pillow>=8 in /usr/local/lib/python3.11/dist-packages (from matplotlib>=3.5->arviz>=0.12.0->bambi) (11.1.0)\n",
            "Requirement already satisfied: pyparsing>=2.3.1 in /usr/local/lib/python3.11/dist-packages (from matplotlib>=3.5->arviz>=0.12.0->bambi) (3.2.1)\n",
            "Requirement already satisfied: filelock>=3.15 in /usr/local/lib/python3.11/dist-packages (from pytensor<2.28,>=2.26.1->pymc>=5.18.0->bambi) (3.17.0)\n",
            "Requirement already satisfied: etuples in /usr/local/lib/python3.11/dist-packages (from pytensor<2.28,>=2.26.1->pymc>=5.18.0->bambi) (0.3.9)\n",
            "Requirement already satisfied: logical-unification in /usr/local/lib/python3.11/dist-packages (from pytensor<2.28,>=2.26.1->pymc>=5.18.0->bambi) (0.4.6)\n",
            "Requirement already satisfied: miniKanren in /usr/local/lib/python3.11/dist-packages (from pytensor<2.28,>=2.26.1->pymc>=5.18.0->bambi) (1.0.3)\n",
            "Requirement already satisfied: cons in /usr/local/lib/python3.11/dist-packages (from pytensor<2.28,>=2.26.1->pymc>=5.18.0->bambi) (0.4.6)\n",
            "Requirement already satisfied: six>=1.5 in /usr/local/lib/python3.11/dist-packages (from python-dateutil>=2.8.2->pandas>=1.0.0->bambi) (1.17.0)\n",
            "Requirement already satisfied: markdown-it-py>=2.2.0 in /usr/local/lib/python3.11/dist-packages (from rich>=13.7.1->pymc>=5.18.0->bambi) (3.0.0)\n",
            "Requirement already satisfied: pygments<3.0.0,>=2.13.0 in /usr/local/lib/python3.11/dist-packages (from rich>=13.7.1->pymc>=5.18.0->bambi) (2.18.0)\n",
            "Requirement already satisfied: mdurl~=0.1 in /usr/local/lib/python3.11/dist-packages (from markdown-it-py>=2.2.0->rich>=13.7.1->pymc>=5.18.0->bambi) (0.1.2)\n",
            "Requirement already satisfied: toolz in /usr/local/lib/python3.11/dist-packages (from logical-unification->pytensor<2.28,>=2.26.1->pymc>=5.18.0->bambi) (0.12.1)\n",
            "Requirement already satisfied: multipledispatch in /usr/local/lib/python3.11/dist-packages (from logical-unification->pytensor<2.28,>=2.26.1->pymc>=5.18.0->bambi) (1.0.0)\n",
            "Downloading bambi-0.15.0-py3-none-any.whl (109 kB)\n",
            "\u001b[2K   \u001b[90m━━━━━━━━━━━━━━━━━━━━━━━━━━━━━━━━━━━━━━━━\u001b[0m \u001b[32m109.2/109.2 kB\u001b[0m \u001b[31m2.5 MB/s\u001b[0m eta \u001b[36m0:00:00\u001b[0m\n",
            "\u001b[?25hDownloading formulae-0.5.4-py3-none-any.whl (53 kB)\n",
            "\u001b[2K   \u001b[90m━━━━━━━━━━━━━━━━━━━━━━━━━━━━━━━━━━━━━━━━\u001b[0m \u001b[32m53.7/53.7 kB\u001b[0m \u001b[31m5.0 MB/s\u001b[0m eta \u001b[36m0:00:00\u001b[0m\n",
            "\u001b[?25hInstalling collected packages: formulae, bambi\n",
            "Successfully installed bambi-0.15.0 formulae-0.5.4\n",
            "Collecting preliz\n",
            "  Downloading preliz-0.15.0-py3-none-any.whl.metadata (6.1 kB)\n",
            "Requirement already satisfied: matplotlib>=3.7 in /usr/local/lib/python3.11/dist-packages (from preliz) (3.10.0)\n",
            "Requirement already satisfied: numba>=0.59 in /usr/local/lib/python3.11/dist-packages (from preliz) (0.61.0)\n",
            "Requirement already satisfied: numpy>=1.24 in /usr/local/lib/python3.11/dist-packages (from preliz) (1.26.4)\n",
            "Collecting scipy<1.13,>=1.10 (from preliz)\n",
            "  Downloading scipy-1.12.0-cp311-cp311-manylinux_2_17_x86_64.manylinux2014_x86_64.whl.metadata (60 kB)\n",
            "\u001b[2K     \u001b[90m━━━━━━━━━━━━━━━━━━━━━━━━━━━━━━━━━━━━━━━━\u001b[0m \u001b[32m60.4/60.4 kB\u001b[0m \u001b[31m2.4 MB/s\u001b[0m eta \u001b[36m0:00:00\u001b[0m\n",
            "\u001b[?25hRequirement already satisfied: contourpy>=1.0.1 in /usr/local/lib/python3.11/dist-packages (from matplotlib>=3.7->preliz) (1.3.1)\n",
            "Requirement already satisfied: cycler>=0.10 in /usr/local/lib/python3.11/dist-packages (from matplotlib>=3.7->preliz) (0.12.1)\n",
            "Requirement already satisfied: fonttools>=4.22.0 in /usr/local/lib/python3.11/dist-packages (from matplotlib>=3.7->preliz) (4.56.0)\n",
            "Requirement already satisfied: kiwisolver>=1.3.1 in /usr/local/lib/python3.11/dist-packages (from matplotlib>=3.7->preliz) (1.4.8)\n",
            "Requirement already satisfied: packaging>=20.0 in /usr/local/lib/python3.11/dist-packages (from matplotlib>=3.7->preliz) (24.2)\n",
            "Requirement already satisfied: pillow>=8 in /usr/local/lib/python3.11/dist-packages (from matplotlib>=3.7->preliz) (11.1.0)\n",
            "Requirement already satisfied: pyparsing>=2.3.1 in /usr/local/lib/python3.11/dist-packages (from matplotlib>=3.7->preliz) (3.2.1)\n",
            "Requirement already satisfied: python-dateutil>=2.7 in /usr/local/lib/python3.11/dist-packages (from matplotlib>=3.7->preliz) (2.8.2)\n",
            "Requirement already satisfied: llvmlite<0.45,>=0.44.0dev0 in /usr/local/lib/python3.11/dist-packages (from numba>=0.59->preliz) (0.44.0)\n",
            "Requirement already satisfied: six>=1.5 in /usr/local/lib/python3.11/dist-packages (from python-dateutil>=2.7->matplotlib>=3.7->preliz) (1.17.0)\n",
            "Downloading preliz-0.15.0-py3-none-any.whl (517 kB)\n",
            "\u001b[2K   \u001b[90m━━━━━━━━━━━━━━━━━━━━━━━━━━━━━━━━━━━━━━━━\u001b[0m \u001b[32m517.1/517.1 kB\u001b[0m \u001b[31m8.8 MB/s\u001b[0m eta \u001b[36m0:00:00\u001b[0m\n",
            "\u001b[?25hDownloading scipy-1.12.0-cp311-cp311-manylinux_2_17_x86_64.manylinux2014_x86_64.whl (38.4 MB)\n",
            "\u001b[2K   \u001b[90m━━━━━━━━━━━━━━━━━━━━━━━━━━━━━━━━━━━━━━━━\u001b[0m \u001b[32m38.4/38.4 MB\u001b[0m \u001b[31m18.8 MB/s\u001b[0m eta \u001b[36m0:00:00\u001b[0m\n",
            "\u001b[?25hInstalling collected packages: scipy, preliz\n",
            "  Attempting uninstall: scipy\n",
            "    Found existing installation: scipy 1.13.1\n",
            "    Uninstalling scipy-1.13.1:\n",
            "      Successfully uninstalled scipy-1.13.1\n",
            "Successfully installed preliz-0.15.0 scipy-1.12.0\n"
          ]
        }
      ],
      "source": [
        "!pip install git+https://github.com/pydata/xarray.git\n",
        "!pip install bambi\n",
        "!pip install preliz\n",
        "import numpy as np\n",
        "import pandas as pd\n",
        "import arviz as az\n",
        "import matplotlib.pyplot as plt\n",
        "import xarray as xr\n",
        "import bambi as bmb\n",
        "import pymc as pm"
      ]
    },
    {
      "cell_type": "markdown",
      "source": [
        "#**Unit 7 Project: Loan Amounts**"
      ],
      "metadata": {
        "id": "nPxLQYSonUWt"
      }
    },
    {
      "cell_type": "markdown",
      "source": [
        "For this project, I choose to make models that would predict Loan Amounts. I choose this idea not because of its importance (though there are some), but because I thought that doing this would be fun and I would find interesting relationships between Loan Amounts and different factors such as Credit Score."
      ],
      "metadata": {
        "id": "lcEVtEMgti22"
      }
    },
    {
      "cell_type": "markdown",
      "source": [
        "##**Data and Casual Diagram**"
      ],
      "metadata": {
        "id": "OjgcqEJsr-lL"
      }
    },
    {
      "cell_type": "markdown",
      "source": [
        "###**Data**"
      ],
      "metadata": {
        "id": "qXx0di2VsDOM"
      }
    },
    {
      "cell_type": "markdown",
      "source": [
        "For my data, I will be using a dataset about loans that I found on Kaggle (tried not to use kaggle, but I found this dataset interesting and I couldn't find a better one somehwere else)"
      ],
      "metadata": {
        "id": "CwIogb5-sHXm"
      }
    },
    {
      "cell_type": "code",
      "source": [
        "loancsv = '/content/loan_data.csv'\n",
        "loan = pd.read_csv(loancsv)\n",
        "loan = loan.head(1000)\n",
        "loan = loan.iloc[::20].reset_index(drop=True)\n",
        "loan\n",
        "\n",
        "#My dataset has over 45000 data points which is WAYYYY to much, so here im reducing it to a random sample size so my models can run quicker"
      ],
      "metadata": {
        "colab": {
          "base_uri": "https://localhost:8080/",
          "height": 1000
        },
        "id": "3rjqDNmCqtpw",
        "outputId": "9028e76e-64a7-4441-f346-2469b2729ef5"
      },
      "execution_count": 52,
      "outputs": [
        {
          "output_type": "execute_result",
          "data": {
            "text/plain": [
              "    person_age person_gender person_education  person_income  person_emp_exp  \\\n",
              "0         22.0        female           Master        71948.0               0   \n",
              "1         25.0          male         Bachelor       195718.0               0   \n",
              "2         26.0          male         Bachelor        75503.0               5   \n",
              "3         21.0        female         Bachelor       158338.0               0   \n",
              "4         24.0          male         Bachelor       300951.0               2   \n",
              "5         26.0          male         Bachelor       281792.0               1   \n",
              "6         22.0        female         Bachelor        16890.0               0   \n",
              "7         23.0          male         Bachelor       258980.0               0   \n",
              "8         23.0          male      High School        17859.0               0   \n",
              "9         24.0          male        Associate        80145.0               1   \n",
              "10        24.0        female      High School        84871.0               3   \n",
              "11        23.0          male      High School        95298.0               0   \n",
              "12        23.0        female         Bachelor        89818.0               0   \n",
              "13        23.0          male        Associate        80452.0               2   \n",
              "14        26.0          male         Bachelor       211005.0               5   \n",
              "15        26.0        female           Master       209873.0               3   \n",
              "16        25.0          male        Associate       136206.0               6   \n",
              "17        25.0        female         Bachelor       161560.0               0   \n",
              "18        24.0          male        Associate       223194.0               0   \n",
              "19        25.0          male      High School        83235.0               3   \n",
              "20        23.0          male        Associate       345520.0               0   \n",
              "21        23.0          male      High School        71875.0               1   \n",
              "22        22.0          male         Bachelor       100479.0               0   \n",
              "23        24.0          male        Associate        22684.0               0   \n",
              "24        24.0        female         Bachelor        22608.0               2   \n",
              "25        24.0          male         Bachelor        73043.0               0   \n",
              "26        22.0          male         Bachelor        24148.0               1   \n",
              "27        26.0          male        Associate        23955.0               2   \n",
              "28        26.0          male        Associate       103023.0               4   \n",
              "29        22.0        female        Associate        24995.0               0   \n",
              "30        24.0        female      High School        54919.0               4   \n",
              "31        22.0          male         Bachelor        62350.0               1   \n",
              "32        22.0        female        Associate        24993.0               1   \n",
              "33        23.0          male           Master        65733.0               0   \n",
              "34        25.0        female      High School        75578.0               2   \n",
              "35        22.0        female      High School        81282.0               1   \n",
              "36        22.0        female         Bachelor        26137.0               0   \n",
              "37        21.0        female      High School        26946.0               0   \n",
              "38        22.0        female      High School        96673.0               1   \n",
              "39        25.0          male      High School       103166.0               3   \n",
              "40        25.0          male        Associate       111834.0               1   \n",
              "41        26.0          male        Associate        27124.0               2   \n",
              "42        22.0        female        Associate        28529.0               1   \n",
              "43        26.0          male           Master       178602.0               6   \n",
              "44        21.0          male        Associate        28319.0               0   \n",
              "45        23.0        female      High School        48233.0               2   \n",
              "46        26.0          male         Bachelor        61142.0               1   \n",
              "47        23.0          male      High School       145076.0               0   \n",
              "48        22.0          male        Associate        44500.0               0   \n",
              "49        24.0          male        Associate        51764.0               0   \n",
              "\n",
              "   person_home_ownership  loan_amnt        loan_intent  loan_int_rate  \\\n",
              "0                   RENT    35000.0           PERSONAL          16.02   \n",
              "1                   RENT    35000.0            VENTURE           7.49   \n",
              "2                   RENT    30000.0            MEDICAL          17.99   \n",
              "3                   RENT    30000.0            VENTURE           5.99   \n",
              "4                   RENT    18000.0          EDUCATION          12.98   \n",
              "5               MORTGAGE    21600.0    HOMEIMPROVEMENT          12.18   \n",
              "6                    OWN     4750.0          EDUCATION          11.01   \n",
              "7               MORTGAGE    35000.0            MEDICAL          14.79   \n",
              "8                    OWN     7750.0           PERSONAL          17.04   \n",
              "9                   RENT    25000.0          EDUCATION           9.91   \n",
              "10                  RENT    25000.0          EDUCATION          11.86   \n",
              "11                  RENT    25000.0            VENTURE          10.74   \n",
              "12                  RENT    25000.0  DEBTCONSOLIDATION          16.35   \n",
              "13                  RENT    25000.0            MEDICAL          15.37   \n",
              "14              MORTGAGE     2600.0            VENTURE           8.90   \n",
              "15                  RENT    12000.0  DEBTCONSOLIDATION          12.53   \n",
              "16                  RENT    25000.0            MEDICAL          12.73   \n",
              "17                  RENT    25000.0            MEDICAL          10.62   \n",
              "18                  RENT    25000.0    HOMEIMPROVEMENT          12.68   \n",
              "19                  RENT    24250.0           PERSONAL          17.56   \n",
              "20                  RENT    24250.0          EDUCATION          12.53   \n",
              "21                  RENT    24000.0  DEBTCONSOLIDATION          19.69   \n",
              "22                  RENT    24000.0  DEBTCONSOLIDATION          19.69   \n",
              "23                   OWN    13000.0           PERSONAL           7.88   \n",
              "24              MORTGAGE     1200.0            VENTURE          11.34   \n",
              "25                  RENT    22000.0            VENTURE          14.26   \n",
              "26              MORTGAGE     4950.0           PERSONAL          11.71   \n",
              "27                   OWN     9250.0          EDUCATION          11.01   \n",
              "28                  RENT    21000.0    HOMEIMPROVEMENT          13.92   \n",
              "29                   OWN     9250.0           PERSONAL          10.65   \n",
              "30                  RENT    20000.0            MEDICAL          11.01   \n",
              "31                  RENT    20000.0          EDUCATION          13.47   \n",
              "32              MORTGAGE    16600.0           PERSONAL           9.76   \n",
              "33                  RENT    20000.0  DEBTCONSOLIDATION          14.84   \n",
              "34                  RENT    20000.0            MEDICAL           6.54   \n",
              "35                  RENT    20000.0          EDUCATION          12.18   \n",
              "36              MORTGAGE     1625.0  DEBTCONSOLIDATION          16.89   \n",
              "37                   OWN     7125.0            VENTURE           6.99   \n",
              "38                  RENT    20000.0          EDUCATION          13.98   \n",
              "39                  RENT    20000.0  DEBTCONSOLIDATION          10.25   \n",
              "40                  RENT    20000.0            MEDICAL           9.25   \n",
              "41                   OWN     7500.0            VENTURE          10.96   \n",
              "42              MORTGAGE     2000.0           PERSONAL           7.51   \n",
              "43                  RENT    20000.0  DEBTCONSOLIDATION          17.99   \n",
              "44                 OTHER     2400.0          EDUCATION          12.21   \n",
              "45                  RENT    19000.0          EDUCATION          10.62   \n",
              "46                  RENT    18950.0           PERSONAL          11.01   \n",
              "47                  RENT    18400.0           PERSONAL           8.90   \n",
              "48                  RENT    18200.0  DEBTCONSOLIDATION          11.71   \n",
              "49                  RENT    18000.0    HOMEIMPROVEMENT          14.46   \n",
              "\n",
              "    loan_percent_income  cb_person_cred_hist_length  credit_score  \\\n",
              "0                  0.49                         3.0           561   \n",
              "1                  0.18                         4.0           684   \n",
              "2                  0.40                         2.0           616   \n",
              "3                  0.19                         4.0           623   \n",
              "4                  0.06                         3.0           671   \n",
              "5                  0.08                         3.0           584   \n",
              "6                  0.28                         3.0           645   \n",
              "7                  0.14                         3.0           618   \n",
              "8                  0.43                         4.0           626   \n",
              "9                  0.31                         2.0           636   \n",
              "10                 0.29                         4.0           569   \n",
              "11                 0.26                         3.0           676   \n",
              "12                 0.28                         4.0           674   \n",
              "13                 0.31                         2.0           699   \n",
              "14                 0.01                         4.0           718   \n",
              "15                 0.06                         4.0           675   \n",
              "16                 0.18                         4.0           539   \n",
              "17                 0.15                         2.0           660   \n",
              "18                 0.11                         2.0           676   \n",
              "19                 0.29                         4.0           603   \n",
              "20                 0.07                         3.0           652   \n",
              "21                 0.33                         2.0           585   \n",
              "22                 0.24                         3.0           590   \n",
              "23                 0.57                         3.0           640   \n",
              "24                 0.05                         4.0           615   \n",
              "25                 0.30                         2.0           593   \n",
              "26                 0.20                         2.0           594   \n",
              "27                 0.39                         2.0           618   \n",
              "28                 0.20                         3.0           658   \n",
              "29                 0.37                         4.0           576   \n",
              "30                 0.36                         2.0           670   \n",
              "31                 0.32                         2.0           677   \n",
              "32                 0.66                         3.0           634   \n",
              "33                 0.30                         3.0           592   \n",
              "34                 0.26                         3.0           574   \n",
              "35                 0.25                         2.0           639   \n",
              "36                 0.06                         3.0           596   \n",
              "37                 0.26                         3.0           653   \n",
              "38                 0.21                         4.0           616   \n",
              "39                 0.19                         3.0           653   \n",
              "40                 0.18                         2.0           606   \n",
              "41                 0.28                         2.0           600   \n",
              "42                 0.07                         3.0           521   \n",
              "43                 0.11                         3.0           604   \n",
              "44                 0.08                         4.0           628   \n",
              "45                 0.39                         2.0           606   \n",
              "46                 0.31                         3.0           632   \n",
              "47                 0.13                         2.0           674   \n",
              "48                 0.41                         3.0           601   \n",
              "49                 0.35                         3.0           618   \n",
              "\n",
              "   previous_loan_defaults_on_file  loan_status  \n",
              "0                              No            1  \n",
              "1                             Yes            0  \n",
              "2                              No            1  \n",
              "3                             Yes            0  \n",
              "4                              No            0  \n",
              "5                             Yes            0  \n",
              "6                              No            1  \n",
              "7                             Yes            0  \n",
              "8                              No            1  \n",
              "9                              No            1  \n",
              "10                             No            1  \n",
              "11                             No            1  \n",
              "12                             No            1  \n",
              "13                             No            1  \n",
              "14                             No            0  \n",
              "15                             No            0  \n",
              "16                             No            0  \n",
              "17                            Yes            0  \n",
              "18                            Yes            0  \n",
              "19                             No            1  \n",
              "20                            Yes            0  \n",
              "21                             No            1  \n",
              "22                             No            1  \n",
              "23                             No            1  \n",
              "24                            Yes            0  \n",
              "25                             No            1  \n",
              "26                             No            1  \n",
              "27                             No            1  \n",
              "28                            Yes            0  \n",
              "29                            Yes            0  \n",
              "30                             No            1  \n",
              "31                             No            1  \n",
              "32                            Yes            0  \n",
              "33                             No            1  \n",
              "34                             No            1  \n",
              "35                             No            0  \n",
              "36                             No            1  \n",
              "37                             No            0  \n",
              "38                            Yes            0  \n",
              "39                            Yes            0  \n",
              "40                            Yes            0  \n",
              "41                            Yes            0  \n",
              "42                            Yes            0  \n",
              "43                             No            1  \n",
              "44                            Yes            0  \n",
              "45                             No            1  \n",
              "46                             No            1  \n",
              "47                            Yes            0  \n",
              "48                             No            1  \n",
              "49                             No            1  "
            ],
            "text/html": [
              "\n",
              "  <div id=\"df-8677a2bf-a408-471a-a625-c33fcca2ed80\" class=\"colab-df-container\">\n",
              "    <div>\n",
              "<style scoped>\n",
              "    .dataframe tbody tr th:only-of-type {\n",
              "        vertical-align: middle;\n",
              "    }\n",
              "\n",
              "    .dataframe tbody tr th {\n",
              "        vertical-align: top;\n",
              "    }\n",
              "\n",
              "    .dataframe thead th {\n",
              "        text-align: right;\n",
              "    }\n",
              "</style>\n",
              "<table border=\"1\" class=\"dataframe\">\n",
              "  <thead>\n",
              "    <tr style=\"text-align: right;\">\n",
              "      <th></th>\n",
              "      <th>person_age</th>\n",
              "      <th>person_gender</th>\n",
              "      <th>person_education</th>\n",
              "      <th>person_income</th>\n",
              "      <th>person_emp_exp</th>\n",
              "      <th>person_home_ownership</th>\n",
              "      <th>loan_amnt</th>\n",
              "      <th>loan_intent</th>\n",
              "      <th>loan_int_rate</th>\n",
              "      <th>loan_percent_income</th>\n",
              "      <th>cb_person_cred_hist_length</th>\n",
              "      <th>credit_score</th>\n",
              "      <th>previous_loan_defaults_on_file</th>\n",
              "      <th>loan_status</th>\n",
              "    </tr>\n",
              "  </thead>\n",
              "  <tbody>\n",
              "    <tr>\n",
              "      <th>0</th>\n",
              "      <td>22.0</td>\n",
              "      <td>female</td>\n",
              "      <td>Master</td>\n",
              "      <td>71948.0</td>\n",
              "      <td>0</td>\n",
              "      <td>RENT</td>\n",
              "      <td>35000.0</td>\n",
              "      <td>PERSONAL</td>\n",
              "      <td>16.02</td>\n",
              "      <td>0.49</td>\n",
              "      <td>3.0</td>\n",
              "      <td>561</td>\n",
              "      <td>No</td>\n",
              "      <td>1</td>\n",
              "    </tr>\n",
              "    <tr>\n",
              "      <th>1</th>\n",
              "      <td>25.0</td>\n",
              "      <td>male</td>\n",
              "      <td>Bachelor</td>\n",
              "      <td>195718.0</td>\n",
              "      <td>0</td>\n",
              "      <td>RENT</td>\n",
              "      <td>35000.0</td>\n",
              "      <td>VENTURE</td>\n",
              "      <td>7.49</td>\n",
              "      <td>0.18</td>\n",
              "      <td>4.0</td>\n",
              "      <td>684</td>\n",
              "      <td>Yes</td>\n",
              "      <td>0</td>\n",
              "    </tr>\n",
              "    <tr>\n",
              "      <th>2</th>\n",
              "      <td>26.0</td>\n",
              "      <td>male</td>\n",
              "      <td>Bachelor</td>\n",
              "      <td>75503.0</td>\n",
              "      <td>5</td>\n",
              "      <td>RENT</td>\n",
              "      <td>30000.0</td>\n",
              "      <td>MEDICAL</td>\n",
              "      <td>17.99</td>\n",
              "      <td>0.40</td>\n",
              "      <td>2.0</td>\n",
              "      <td>616</td>\n",
              "      <td>No</td>\n",
              "      <td>1</td>\n",
              "    </tr>\n",
              "    <tr>\n",
              "      <th>3</th>\n",
              "      <td>21.0</td>\n",
              "      <td>female</td>\n",
              "      <td>Bachelor</td>\n",
              "      <td>158338.0</td>\n",
              "      <td>0</td>\n",
              "      <td>RENT</td>\n",
              "      <td>30000.0</td>\n",
              "      <td>VENTURE</td>\n",
              "      <td>5.99</td>\n",
              "      <td>0.19</td>\n",
              "      <td>4.0</td>\n",
              "      <td>623</td>\n",
              "      <td>Yes</td>\n",
              "      <td>0</td>\n",
              "    </tr>\n",
              "    <tr>\n",
              "      <th>4</th>\n",
              "      <td>24.0</td>\n",
              "      <td>male</td>\n",
              "      <td>Bachelor</td>\n",
              "      <td>300951.0</td>\n",
              "      <td>2</td>\n",
              "      <td>RENT</td>\n",
              "      <td>18000.0</td>\n",
              "      <td>EDUCATION</td>\n",
              "      <td>12.98</td>\n",
              "      <td>0.06</td>\n",
              "      <td>3.0</td>\n",
              "      <td>671</td>\n",
              "      <td>No</td>\n",
              "      <td>0</td>\n",
              "    </tr>\n",
              "    <tr>\n",
              "      <th>5</th>\n",
              "      <td>26.0</td>\n",
              "      <td>male</td>\n",
              "      <td>Bachelor</td>\n",
              "      <td>281792.0</td>\n",
              "      <td>1</td>\n",
              "      <td>MORTGAGE</td>\n",
              "      <td>21600.0</td>\n",
              "      <td>HOMEIMPROVEMENT</td>\n",
              "      <td>12.18</td>\n",
              "      <td>0.08</td>\n",
              "      <td>3.0</td>\n",
              "      <td>584</td>\n",
              "      <td>Yes</td>\n",
              "      <td>0</td>\n",
              "    </tr>\n",
              "    <tr>\n",
              "      <th>6</th>\n",
              "      <td>22.0</td>\n",
              "      <td>female</td>\n",
              "      <td>Bachelor</td>\n",
              "      <td>16890.0</td>\n",
              "      <td>0</td>\n",
              "      <td>OWN</td>\n",
              "      <td>4750.0</td>\n",
              "      <td>EDUCATION</td>\n",
              "      <td>11.01</td>\n",
              "      <td>0.28</td>\n",
              "      <td>3.0</td>\n",
              "      <td>645</td>\n",
              "      <td>No</td>\n",
              "      <td>1</td>\n",
              "    </tr>\n",
              "    <tr>\n",
              "      <th>7</th>\n",
              "      <td>23.0</td>\n",
              "      <td>male</td>\n",
              "      <td>Bachelor</td>\n",
              "      <td>258980.0</td>\n",
              "      <td>0</td>\n",
              "      <td>MORTGAGE</td>\n",
              "      <td>35000.0</td>\n",
              "      <td>MEDICAL</td>\n",
              "      <td>14.79</td>\n",
              "      <td>0.14</td>\n",
              "      <td>3.0</td>\n",
              "      <td>618</td>\n",
              "      <td>Yes</td>\n",
              "      <td>0</td>\n",
              "    </tr>\n",
              "    <tr>\n",
              "      <th>8</th>\n",
              "      <td>23.0</td>\n",
              "      <td>male</td>\n",
              "      <td>High School</td>\n",
              "      <td>17859.0</td>\n",
              "      <td>0</td>\n",
              "      <td>OWN</td>\n",
              "      <td>7750.0</td>\n",
              "      <td>PERSONAL</td>\n",
              "      <td>17.04</td>\n",
              "      <td>0.43</td>\n",
              "      <td>4.0</td>\n",
              "      <td>626</td>\n",
              "      <td>No</td>\n",
              "      <td>1</td>\n",
              "    </tr>\n",
              "    <tr>\n",
              "      <th>9</th>\n",
              "      <td>24.0</td>\n",
              "      <td>male</td>\n",
              "      <td>Associate</td>\n",
              "      <td>80145.0</td>\n",
              "      <td>1</td>\n",
              "      <td>RENT</td>\n",
              "      <td>25000.0</td>\n",
              "      <td>EDUCATION</td>\n",
              "      <td>9.91</td>\n",
              "      <td>0.31</td>\n",
              "      <td>2.0</td>\n",
              "      <td>636</td>\n",
              "      <td>No</td>\n",
              "      <td>1</td>\n",
              "    </tr>\n",
              "    <tr>\n",
              "      <th>10</th>\n",
              "      <td>24.0</td>\n",
              "      <td>female</td>\n",
              "      <td>High School</td>\n",
              "      <td>84871.0</td>\n",
              "      <td>3</td>\n",
              "      <td>RENT</td>\n",
              "      <td>25000.0</td>\n",
              "      <td>EDUCATION</td>\n",
              "      <td>11.86</td>\n",
              "      <td>0.29</td>\n",
              "      <td>4.0</td>\n",
              "      <td>569</td>\n",
              "      <td>No</td>\n",
              "      <td>1</td>\n",
              "    </tr>\n",
              "    <tr>\n",
              "      <th>11</th>\n",
              "      <td>23.0</td>\n",
              "      <td>male</td>\n",
              "      <td>High School</td>\n",
              "      <td>95298.0</td>\n",
              "      <td>0</td>\n",
              "      <td>RENT</td>\n",
              "      <td>25000.0</td>\n",
              "      <td>VENTURE</td>\n",
              "      <td>10.74</td>\n",
              "      <td>0.26</td>\n",
              "      <td>3.0</td>\n",
              "      <td>676</td>\n",
              "      <td>No</td>\n",
              "      <td>1</td>\n",
              "    </tr>\n",
              "    <tr>\n",
              "      <th>12</th>\n",
              "      <td>23.0</td>\n",
              "      <td>female</td>\n",
              "      <td>Bachelor</td>\n",
              "      <td>89818.0</td>\n",
              "      <td>0</td>\n",
              "      <td>RENT</td>\n",
              "      <td>25000.0</td>\n",
              "      <td>DEBTCONSOLIDATION</td>\n",
              "      <td>16.35</td>\n",
              "      <td>0.28</td>\n",
              "      <td>4.0</td>\n",
              "      <td>674</td>\n",
              "      <td>No</td>\n",
              "      <td>1</td>\n",
              "    </tr>\n",
              "    <tr>\n",
              "      <th>13</th>\n",
              "      <td>23.0</td>\n",
              "      <td>male</td>\n",
              "      <td>Associate</td>\n",
              "      <td>80452.0</td>\n",
              "      <td>2</td>\n",
              "      <td>RENT</td>\n",
              "      <td>25000.0</td>\n",
              "      <td>MEDICAL</td>\n",
              "      <td>15.37</td>\n",
              "      <td>0.31</td>\n",
              "      <td>2.0</td>\n",
              "      <td>699</td>\n",
              "      <td>No</td>\n",
              "      <td>1</td>\n",
              "    </tr>\n",
              "    <tr>\n",
              "      <th>14</th>\n",
              "      <td>26.0</td>\n",
              "      <td>male</td>\n",
              "      <td>Bachelor</td>\n",
              "      <td>211005.0</td>\n",
              "      <td>5</td>\n",
              "      <td>MORTGAGE</td>\n",
              "      <td>2600.0</td>\n",
              "      <td>VENTURE</td>\n",
              "      <td>8.90</td>\n",
              "      <td>0.01</td>\n",
              "      <td>4.0</td>\n",
              "      <td>718</td>\n",
              "      <td>No</td>\n",
              "      <td>0</td>\n",
              "    </tr>\n",
              "    <tr>\n",
              "      <th>15</th>\n",
              "      <td>26.0</td>\n",
              "      <td>female</td>\n",
              "      <td>Master</td>\n",
              "      <td>209873.0</td>\n",
              "      <td>3</td>\n",
              "      <td>RENT</td>\n",
              "      <td>12000.0</td>\n",
              "      <td>DEBTCONSOLIDATION</td>\n",
              "      <td>12.53</td>\n",
              "      <td>0.06</td>\n",
              "      <td>4.0</td>\n",
              "      <td>675</td>\n",
              "      <td>No</td>\n",
              "      <td>0</td>\n",
              "    </tr>\n",
              "    <tr>\n",
              "      <th>16</th>\n",
              "      <td>25.0</td>\n",
              "      <td>male</td>\n",
              "      <td>Associate</td>\n",
              "      <td>136206.0</td>\n",
              "      <td>6</td>\n",
              "      <td>RENT</td>\n",
              "      <td>25000.0</td>\n",
              "      <td>MEDICAL</td>\n",
              "      <td>12.73</td>\n",
              "      <td>0.18</td>\n",
              "      <td>4.0</td>\n",
              "      <td>539</td>\n",
              "      <td>No</td>\n",
              "      <td>0</td>\n",
              "    </tr>\n",
              "    <tr>\n",
              "      <th>17</th>\n",
              "      <td>25.0</td>\n",
              "      <td>female</td>\n",
              "      <td>Bachelor</td>\n",
              "      <td>161560.0</td>\n",
              "      <td>0</td>\n",
              "      <td>RENT</td>\n",
              "      <td>25000.0</td>\n",
              "      <td>MEDICAL</td>\n",
              "      <td>10.62</td>\n",
              "      <td>0.15</td>\n",
              "      <td>2.0</td>\n",
              "      <td>660</td>\n",
              "      <td>Yes</td>\n",
              "      <td>0</td>\n",
              "    </tr>\n",
              "    <tr>\n",
              "      <th>18</th>\n",
              "      <td>24.0</td>\n",
              "      <td>male</td>\n",
              "      <td>Associate</td>\n",
              "      <td>223194.0</td>\n",
              "      <td>0</td>\n",
              "      <td>RENT</td>\n",
              "      <td>25000.0</td>\n",
              "      <td>HOMEIMPROVEMENT</td>\n",
              "      <td>12.68</td>\n",
              "      <td>0.11</td>\n",
              "      <td>2.0</td>\n",
              "      <td>676</td>\n",
              "      <td>Yes</td>\n",
              "      <td>0</td>\n",
              "    </tr>\n",
              "    <tr>\n",
              "      <th>19</th>\n",
              "      <td>25.0</td>\n",
              "      <td>male</td>\n",
              "      <td>High School</td>\n",
              "      <td>83235.0</td>\n",
              "      <td>3</td>\n",
              "      <td>RENT</td>\n",
              "      <td>24250.0</td>\n",
              "      <td>PERSONAL</td>\n",
              "      <td>17.56</td>\n",
              "      <td>0.29</td>\n",
              "      <td>4.0</td>\n",
              "      <td>603</td>\n",
              "      <td>No</td>\n",
              "      <td>1</td>\n",
              "    </tr>\n",
              "    <tr>\n",
              "      <th>20</th>\n",
              "      <td>23.0</td>\n",
              "      <td>male</td>\n",
              "      <td>Associate</td>\n",
              "      <td>345520.0</td>\n",
              "      <td>0</td>\n",
              "      <td>RENT</td>\n",
              "      <td>24250.0</td>\n",
              "      <td>EDUCATION</td>\n",
              "      <td>12.53</td>\n",
              "      <td>0.07</td>\n",
              "      <td>3.0</td>\n",
              "      <td>652</td>\n",
              "      <td>Yes</td>\n",
              "      <td>0</td>\n",
              "    </tr>\n",
              "    <tr>\n",
              "      <th>21</th>\n",
              "      <td>23.0</td>\n",
              "      <td>male</td>\n",
              "      <td>High School</td>\n",
              "      <td>71875.0</td>\n",
              "      <td>1</td>\n",
              "      <td>RENT</td>\n",
              "      <td>24000.0</td>\n",
              "      <td>DEBTCONSOLIDATION</td>\n",
              "      <td>19.69</td>\n",
              "      <td>0.33</td>\n",
              "      <td>2.0</td>\n",
              "      <td>585</td>\n",
              "      <td>No</td>\n",
              "      <td>1</td>\n",
              "    </tr>\n",
              "    <tr>\n",
              "      <th>22</th>\n",
              "      <td>22.0</td>\n",
              "      <td>male</td>\n",
              "      <td>Bachelor</td>\n",
              "      <td>100479.0</td>\n",
              "      <td>0</td>\n",
              "      <td>RENT</td>\n",
              "      <td>24000.0</td>\n",
              "      <td>DEBTCONSOLIDATION</td>\n",
              "      <td>19.69</td>\n",
              "      <td>0.24</td>\n",
              "      <td>3.0</td>\n",
              "      <td>590</td>\n",
              "      <td>No</td>\n",
              "      <td>1</td>\n",
              "    </tr>\n",
              "    <tr>\n",
              "      <th>23</th>\n",
              "      <td>24.0</td>\n",
              "      <td>male</td>\n",
              "      <td>Associate</td>\n",
              "      <td>22684.0</td>\n",
              "      <td>0</td>\n",
              "      <td>OWN</td>\n",
              "      <td>13000.0</td>\n",
              "      <td>PERSONAL</td>\n",
              "      <td>7.88</td>\n",
              "      <td>0.57</td>\n",
              "      <td>3.0</td>\n",
              "      <td>640</td>\n",
              "      <td>No</td>\n",
              "      <td>1</td>\n",
              "    </tr>\n",
              "    <tr>\n",
              "      <th>24</th>\n",
              "      <td>24.0</td>\n",
              "      <td>female</td>\n",
              "      <td>Bachelor</td>\n",
              "      <td>22608.0</td>\n",
              "      <td>2</td>\n",
              "      <td>MORTGAGE</td>\n",
              "      <td>1200.0</td>\n",
              "      <td>VENTURE</td>\n",
              "      <td>11.34</td>\n",
              "      <td>0.05</td>\n",
              "      <td>4.0</td>\n",
              "      <td>615</td>\n",
              "      <td>Yes</td>\n",
              "      <td>0</td>\n",
              "    </tr>\n",
              "    <tr>\n",
              "      <th>25</th>\n",
              "      <td>24.0</td>\n",
              "      <td>male</td>\n",
              "      <td>Bachelor</td>\n",
              "      <td>73043.0</td>\n",
              "      <td>0</td>\n",
              "      <td>RENT</td>\n",
              "      <td>22000.0</td>\n",
              "      <td>VENTURE</td>\n",
              "      <td>14.26</td>\n",
              "      <td>0.30</td>\n",
              "      <td>2.0</td>\n",
              "      <td>593</td>\n",
              "      <td>No</td>\n",
              "      <td>1</td>\n",
              "    </tr>\n",
              "    <tr>\n",
              "      <th>26</th>\n",
              "      <td>22.0</td>\n",
              "      <td>male</td>\n",
              "      <td>Bachelor</td>\n",
              "      <td>24148.0</td>\n",
              "      <td>1</td>\n",
              "      <td>MORTGAGE</td>\n",
              "      <td>4950.0</td>\n",
              "      <td>PERSONAL</td>\n",
              "      <td>11.71</td>\n",
              "      <td>0.20</td>\n",
              "      <td>2.0</td>\n",
              "      <td>594</td>\n",
              "      <td>No</td>\n",
              "      <td>1</td>\n",
              "    </tr>\n",
              "    <tr>\n",
              "      <th>27</th>\n",
              "      <td>26.0</td>\n",
              "      <td>male</td>\n",
              "      <td>Associate</td>\n",
              "      <td>23955.0</td>\n",
              "      <td>2</td>\n",
              "      <td>OWN</td>\n",
              "      <td>9250.0</td>\n",
              "      <td>EDUCATION</td>\n",
              "      <td>11.01</td>\n",
              "      <td>0.39</td>\n",
              "      <td>2.0</td>\n",
              "      <td>618</td>\n",
              "      <td>No</td>\n",
              "      <td>1</td>\n",
              "    </tr>\n",
              "    <tr>\n",
              "      <th>28</th>\n",
              "      <td>26.0</td>\n",
              "      <td>male</td>\n",
              "      <td>Associate</td>\n",
              "      <td>103023.0</td>\n",
              "      <td>4</td>\n",
              "      <td>RENT</td>\n",
              "      <td>21000.0</td>\n",
              "      <td>HOMEIMPROVEMENT</td>\n",
              "      <td>13.92</td>\n",
              "      <td>0.20</td>\n",
              "      <td>3.0</td>\n",
              "      <td>658</td>\n",
              "      <td>Yes</td>\n",
              "      <td>0</td>\n",
              "    </tr>\n",
              "    <tr>\n",
              "      <th>29</th>\n",
              "      <td>22.0</td>\n",
              "      <td>female</td>\n",
              "      <td>Associate</td>\n",
              "      <td>24995.0</td>\n",
              "      <td>0</td>\n",
              "      <td>OWN</td>\n",
              "      <td>9250.0</td>\n",
              "      <td>PERSONAL</td>\n",
              "      <td>10.65</td>\n",
              "      <td>0.37</td>\n",
              "      <td>4.0</td>\n",
              "      <td>576</td>\n",
              "      <td>Yes</td>\n",
              "      <td>0</td>\n",
              "    </tr>\n",
              "    <tr>\n",
              "      <th>30</th>\n",
              "      <td>24.0</td>\n",
              "      <td>female</td>\n",
              "      <td>High School</td>\n",
              "      <td>54919.0</td>\n",
              "      <td>4</td>\n",
              "      <td>RENT</td>\n",
              "      <td>20000.0</td>\n",
              "      <td>MEDICAL</td>\n",
              "      <td>11.01</td>\n",
              "      <td>0.36</td>\n",
              "      <td>2.0</td>\n",
              "      <td>670</td>\n",
              "      <td>No</td>\n",
              "      <td>1</td>\n",
              "    </tr>\n",
              "    <tr>\n",
              "      <th>31</th>\n",
              "      <td>22.0</td>\n",
              "      <td>male</td>\n",
              "      <td>Bachelor</td>\n",
              "      <td>62350.0</td>\n",
              "      <td>1</td>\n",
              "      <td>RENT</td>\n",
              "      <td>20000.0</td>\n",
              "      <td>EDUCATION</td>\n",
              "      <td>13.47</td>\n",
              "      <td>0.32</td>\n",
              "      <td>2.0</td>\n",
              "      <td>677</td>\n",
              "      <td>No</td>\n",
              "      <td>1</td>\n",
              "    </tr>\n",
              "    <tr>\n",
              "      <th>32</th>\n",
              "      <td>22.0</td>\n",
              "      <td>female</td>\n",
              "      <td>Associate</td>\n",
              "      <td>24993.0</td>\n",
              "      <td>1</td>\n",
              "      <td>MORTGAGE</td>\n",
              "      <td>16600.0</td>\n",
              "      <td>PERSONAL</td>\n",
              "      <td>9.76</td>\n",
              "      <td>0.66</td>\n",
              "      <td>3.0</td>\n",
              "      <td>634</td>\n",
              "      <td>Yes</td>\n",
              "      <td>0</td>\n",
              "    </tr>\n",
              "    <tr>\n",
              "      <th>33</th>\n",
              "      <td>23.0</td>\n",
              "      <td>male</td>\n",
              "      <td>Master</td>\n",
              "      <td>65733.0</td>\n",
              "      <td>0</td>\n",
              "      <td>RENT</td>\n",
              "      <td>20000.0</td>\n",
              "      <td>DEBTCONSOLIDATION</td>\n",
              "      <td>14.84</td>\n",
              "      <td>0.30</td>\n",
              "      <td>3.0</td>\n",
              "      <td>592</td>\n",
              "      <td>No</td>\n",
              "      <td>1</td>\n",
              "    </tr>\n",
              "    <tr>\n",
              "      <th>34</th>\n",
              "      <td>25.0</td>\n",
              "      <td>female</td>\n",
              "      <td>High School</td>\n",
              "      <td>75578.0</td>\n",
              "      <td>2</td>\n",
              "      <td>RENT</td>\n",
              "      <td>20000.0</td>\n",
              "      <td>MEDICAL</td>\n",
              "      <td>6.54</td>\n",
              "      <td>0.26</td>\n",
              "      <td>3.0</td>\n",
              "      <td>574</td>\n",
              "      <td>No</td>\n",
              "      <td>1</td>\n",
              "    </tr>\n",
              "    <tr>\n",
              "      <th>35</th>\n",
              "      <td>22.0</td>\n",
              "      <td>female</td>\n",
              "      <td>High School</td>\n",
              "      <td>81282.0</td>\n",
              "      <td>1</td>\n",
              "      <td>RENT</td>\n",
              "      <td>20000.0</td>\n",
              "      <td>EDUCATION</td>\n",
              "      <td>12.18</td>\n",
              "      <td>0.25</td>\n",
              "      <td>2.0</td>\n",
              "      <td>639</td>\n",
              "      <td>No</td>\n",
              "      <td>0</td>\n",
              "    </tr>\n",
              "    <tr>\n",
              "      <th>36</th>\n",
              "      <td>22.0</td>\n",
              "      <td>female</td>\n",
              "      <td>Bachelor</td>\n",
              "      <td>26137.0</td>\n",
              "      <td>0</td>\n",
              "      <td>MORTGAGE</td>\n",
              "      <td>1625.0</td>\n",
              "      <td>DEBTCONSOLIDATION</td>\n",
              "      <td>16.89</td>\n",
              "      <td>0.06</td>\n",
              "      <td>3.0</td>\n",
              "      <td>596</td>\n",
              "      <td>No</td>\n",
              "      <td>1</td>\n",
              "    </tr>\n",
              "    <tr>\n",
              "      <th>37</th>\n",
              "      <td>21.0</td>\n",
              "      <td>female</td>\n",
              "      <td>High School</td>\n",
              "      <td>26946.0</td>\n",
              "      <td>0</td>\n",
              "      <td>OWN</td>\n",
              "      <td>7125.0</td>\n",
              "      <td>VENTURE</td>\n",
              "      <td>6.99</td>\n",
              "      <td>0.26</td>\n",
              "      <td>3.0</td>\n",
              "      <td>653</td>\n",
              "      <td>No</td>\n",
              "      <td>0</td>\n",
              "    </tr>\n",
              "    <tr>\n",
              "      <th>38</th>\n",
              "      <td>22.0</td>\n",
              "      <td>female</td>\n",
              "      <td>High School</td>\n",
              "      <td>96673.0</td>\n",
              "      <td>1</td>\n",
              "      <td>RENT</td>\n",
              "      <td>20000.0</td>\n",
              "      <td>EDUCATION</td>\n",
              "      <td>13.98</td>\n",
              "      <td>0.21</td>\n",
              "      <td>4.0</td>\n",
              "      <td>616</td>\n",
              "      <td>Yes</td>\n",
              "      <td>0</td>\n",
              "    </tr>\n",
              "    <tr>\n",
              "      <th>39</th>\n",
              "      <td>25.0</td>\n",
              "      <td>male</td>\n",
              "      <td>High School</td>\n",
              "      <td>103166.0</td>\n",
              "      <td>3</td>\n",
              "      <td>RENT</td>\n",
              "      <td>20000.0</td>\n",
              "      <td>DEBTCONSOLIDATION</td>\n",
              "      <td>10.25</td>\n",
              "      <td>0.19</td>\n",
              "      <td>3.0</td>\n",
              "      <td>653</td>\n",
              "      <td>Yes</td>\n",
              "      <td>0</td>\n",
              "    </tr>\n",
              "    <tr>\n",
              "      <th>40</th>\n",
              "      <td>25.0</td>\n",
              "      <td>male</td>\n",
              "      <td>Associate</td>\n",
              "      <td>111834.0</td>\n",
              "      <td>1</td>\n",
              "      <td>RENT</td>\n",
              "      <td>20000.0</td>\n",
              "      <td>MEDICAL</td>\n",
              "      <td>9.25</td>\n",
              "      <td>0.18</td>\n",
              "      <td>2.0</td>\n",
              "      <td>606</td>\n",
              "      <td>Yes</td>\n",
              "      <td>0</td>\n",
              "    </tr>\n",
              "    <tr>\n",
              "      <th>41</th>\n",
              "      <td>26.0</td>\n",
              "      <td>male</td>\n",
              "      <td>Associate</td>\n",
              "      <td>27124.0</td>\n",
              "      <td>2</td>\n",
              "      <td>OWN</td>\n",
              "      <td>7500.0</td>\n",
              "      <td>VENTURE</td>\n",
              "      <td>10.96</td>\n",
              "      <td>0.28</td>\n",
              "      <td>2.0</td>\n",
              "      <td>600</td>\n",
              "      <td>Yes</td>\n",
              "      <td>0</td>\n",
              "    </tr>\n",
              "    <tr>\n",
              "      <th>42</th>\n",
              "      <td>22.0</td>\n",
              "      <td>female</td>\n",
              "      <td>Associate</td>\n",
              "      <td>28529.0</td>\n",
              "      <td>1</td>\n",
              "      <td>MORTGAGE</td>\n",
              "      <td>2000.0</td>\n",
              "      <td>PERSONAL</td>\n",
              "      <td>7.51</td>\n",
              "      <td>0.07</td>\n",
              "      <td>3.0</td>\n",
              "      <td>521</td>\n",
              "      <td>Yes</td>\n",
              "      <td>0</td>\n",
              "    </tr>\n",
              "    <tr>\n",
              "      <th>43</th>\n",
              "      <td>26.0</td>\n",
              "      <td>male</td>\n",
              "      <td>Master</td>\n",
              "      <td>178602.0</td>\n",
              "      <td>6</td>\n",
              "      <td>RENT</td>\n",
              "      <td>20000.0</td>\n",
              "      <td>DEBTCONSOLIDATION</td>\n",
              "      <td>17.99</td>\n",
              "      <td>0.11</td>\n",
              "      <td>3.0</td>\n",
              "      <td>604</td>\n",
              "      <td>No</td>\n",
              "      <td>1</td>\n",
              "    </tr>\n",
              "    <tr>\n",
              "      <th>44</th>\n",
              "      <td>21.0</td>\n",
              "      <td>male</td>\n",
              "      <td>Associate</td>\n",
              "      <td>28319.0</td>\n",
              "      <td>0</td>\n",
              "      <td>OTHER</td>\n",
              "      <td>2400.0</td>\n",
              "      <td>EDUCATION</td>\n",
              "      <td>12.21</td>\n",
              "      <td>0.08</td>\n",
              "      <td>4.0</td>\n",
              "      <td>628</td>\n",
              "      <td>Yes</td>\n",
              "      <td>0</td>\n",
              "    </tr>\n",
              "    <tr>\n",
              "      <th>45</th>\n",
              "      <td>23.0</td>\n",
              "      <td>female</td>\n",
              "      <td>High School</td>\n",
              "      <td>48233.0</td>\n",
              "      <td>2</td>\n",
              "      <td>RENT</td>\n",
              "      <td>19000.0</td>\n",
              "      <td>EDUCATION</td>\n",
              "      <td>10.62</td>\n",
              "      <td>0.39</td>\n",
              "      <td>2.0</td>\n",
              "      <td>606</td>\n",
              "      <td>No</td>\n",
              "      <td>1</td>\n",
              "    </tr>\n",
              "    <tr>\n",
              "      <th>46</th>\n",
              "      <td>26.0</td>\n",
              "      <td>male</td>\n",
              "      <td>Bachelor</td>\n",
              "      <td>61142.0</td>\n",
              "      <td>1</td>\n",
              "      <td>RENT</td>\n",
              "      <td>18950.0</td>\n",
              "      <td>PERSONAL</td>\n",
              "      <td>11.01</td>\n",
              "      <td>0.31</td>\n",
              "      <td>3.0</td>\n",
              "      <td>632</td>\n",
              "      <td>No</td>\n",
              "      <td>1</td>\n",
              "    </tr>\n",
              "    <tr>\n",
              "      <th>47</th>\n",
              "      <td>23.0</td>\n",
              "      <td>male</td>\n",
              "      <td>High School</td>\n",
              "      <td>145076.0</td>\n",
              "      <td>0</td>\n",
              "      <td>RENT</td>\n",
              "      <td>18400.0</td>\n",
              "      <td>PERSONAL</td>\n",
              "      <td>8.90</td>\n",
              "      <td>0.13</td>\n",
              "      <td>2.0</td>\n",
              "      <td>674</td>\n",
              "      <td>Yes</td>\n",
              "      <td>0</td>\n",
              "    </tr>\n",
              "    <tr>\n",
              "      <th>48</th>\n",
              "      <td>22.0</td>\n",
              "      <td>male</td>\n",
              "      <td>Associate</td>\n",
              "      <td>44500.0</td>\n",
              "      <td>0</td>\n",
              "      <td>RENT</td>\n",
              "      <td>18200.0</td>\n",
              "      <td>DEBTCONSOLIDATION</td>\n",
              "      <td>11.71</td>\n",
              "      <td>0.41</td>\n",
              "      <td>3.0</td>\n",
              "      <td>601</td>\n",
              "      <td>No</td>\n",
              "      <td>1</td>\n",
              "    </tr>\n",
              "    <tr>\n",
              "      <th>49</th>\n",
              "      <td>24.0</td>\n",
              "      <td>male</td>\n",
              "      <td>Associate</td>\n",
              "      <td>51764.0</td>\n",
              "      <td>0</td>\n",
              "      <td>RENT</td>\n",
              "      <td>18000.0</td>\n",
              "      <td>HOMEIMPROVEMENT</td>\n",
              "      <td>14.46</td>\n",
              "      <td>0.35</td>\n",
              "      <td>3.0</td>\n",
              "      <td>618</td>\n",
              "      <td>No</td>\n",
              "      <td>1</td>\n",
              "    </tr>\n",
              "  </tbody>\n",
              "</table>\n",
              "</div>\n",
              "    <div class=\"colab-df-buttons\">\n",
              "\n",
              "  <div class=\"colab-df-container\">\n",
              "    <button class=\"colab-df-convert\" onclick=\"convertToInteractive('df-8677a2bf-a408-471a-a625-c33fcca2ed80')\"\n",
              "            title=\"Convert this dataframe to an interactive table.\"\n",
              "            style=\"display:none;\">\n",
              "\n",
              "  <svg xmlns=\"http://www.w3.org/2000/svg\" height=\"24px\" viewBox=\"0 -960 960 960\">\n",
              "    <path d=\"M120-120v-720h720v720H120Zm60-500h600v-160H180v160Zm220 220h160v-160H400v160Zm0 220h160v-160H400v160ZM180-400h160v-160H180v160Zm440 0h160v-160H620v160ZM180-180h160v-160H180v160Zm440 0h160v-160H620v160Z\"/>\n",
              "  </svg>\n",
              "    </button>\n",
              "\n",
              "  <style>\n",
              "    .colab-df-container {\n",
              "      display:flex;\n",
              "      gap: 12px;\n",
              "    }\n",
              "\n",
              "    .colab-df-convert {\n",
              "      background-color: #E8F0FE;\n",
              "      border: none;\n",
              "      border-radius: 50%;\n",
              "      cursor: pointer;\n",
              "      display: none;\n",
              "      fill: #1967D2;\n",
              "      height: 32px;\n",
              "      padding: 0 0 0 0;\n",
              "      width: 32px;\n",
              "    }\n",
              "\n",
              "    .colab-df-convert:hover {\n",
              "      background-color: #E2EBFA;\n",
              "      box-shadow: 0px 1px 2px rgba(60, 64, 67, 0.3), 0px 1px 3px 1px rgba(60, 64, 67, 0.15);\n",
              "      fill: #174EA6;\n",
              "    }\n",
              "\n",
              "    .colab-df-buttons div {\n",
              "      margin-bottom: 4px;\n",
              "    }\n",
              "\n",
              "    [theme=dark] .colab-df-convert {\n",
              "      background-color: #3B4455;\n",
              "      fill: #D2E3FC;\n",
              "    }\n",
              "\n",
              "    [theme=dark] .colab-df-convert:hover {\n",
              "      background-color: #434B5C;\n",
              "      box-shadow: 0px 1px 3px 1px rgba(0, 0, 0, 0.15);\n",
              "      filter: drop-shadow(0px 1px 2px rgba(0, 0, 0, 0.3));\n",
              "      fill: #FFFFFF;\n",
              "    }\n",
              "  </style>\n",
              "\n",
              "    <script>\n",
              "      const buttonEl =\n",
              "        document.querySelector('#df-8677a2bf-a408-471a-a625-c33fcca2ed80 button.colab-df-convert');\n",
              "      buttonEl.style.display =\n",
              "        google.colab.kernel.accessAllowed ? 'block' : 'none';\n",
              "\n",
              "      async function convertToInteractive(key) {\n",
              "        const element = document.querySelector('#df-8677a2bf-a408-471a-a625-c33fcca2ed80');\n",
              "        const dataTable =\n",
              "          await google.colab.kernel.invokeFunction('convertToInteractive',\n",
              "                                                    [key], {});\n",
              "        if (!dataTable) return;\n",
              "\n",
              "        const docLinkHtml = 'Like what you see? Visit the ' +\n",
              "          '<a target=\"_blank\" href=https://colab.research.google.com/notebooks/data_table.ipynb>data table notebook</a>'\n",
              "          + ' to learn more about interactive tables.';\n",
              "        element.innerHTML = '';\n",
              "        dataTable['output_type'] = 'display_data';\n",
              "        await google.colab.output.renderOutput(dataTable, element);\n",
              "        const docLink = document.createElement('div');\n",
              "        docLink.innerHTML = docLinkHtml;\n",
              "        element.appendChild(docLink);\n",
              "      }\n",
              "    </script>\n",
              "  </div>\n",
              "\n",
              "\n",
              "<div id=\"df-b51c0553-c4f0-4319-bed2-ea8d5fadba6d\">\n",
              "  <button class=\"colab-df-quickchart\" onclick=\"quickchart('df-b51c0553-c4f0-4319-bed2-ea8d5fadba6d')\"\n",
              "            title=\"Suggest charts\"\n",
              "            style=\"display:none;\">\n",
              "\n",
              "<svg xmlns=\"http://www.w3.org/2000/svg\" height=\"24px\"viewBox=\"0 0 24 24\"\n",
              "     width=\"24px\">\n",
              "    <g>\n",
              "        <path d=\"M19 3H5c-1.1 0-2 .9-2 2v14c0 1.1.9 2 2 2h14c1.1 0 2-.9 2-2V5c0-1.1-.9-2-2-2zM9 17H7v-7h2v7zm4 0h-2V7h2v10zm4 0h-2v-4h2v4z\"/>\n",
              "    </g>\n",
              "</svg>\n",
              "  </button>\n",
              "\n",
              "<style>\n",
              "  .colab-df-quickchart {\n",
              "      --bg-color: #E8F0FE;\n",
              "      --fill-color: #1967D2;\n",
              "      --hover-bg-color: #E2EBFA;\n",
              "      --hover-fill-color: #174EA6;\n",
              "      --disabled-fill-color: #AAA;\n",
              "      --disabled-bg-color: #DDD;\n",
              "  }\n",
              "\n",
              "  [theme=dark] .colab-df-quickchart {\n",
              "      --bg-color: #3B4455;\n",
              "      --fill-color: #D2E3FC;\n",
              "      --hover-bg-color: #434B5C;\n",
              "      --hover-fill-color: #FFFFFF;\n",
              "      --disabled-bg-color: #3B4455;\n",
              "      --disabled-fill-color: #666;\n",
              "  }\n",
              "\n",
              "  .colab-df-quickchart {\n",
              "    background-color: var(--bg-color);\n",
              "    border: none;\n",
              "    border-radius: 50%;\n",
              "    cursor: pointer;\n",
              "    display: none;\n",
              "    fill: var(--fill-color);\n",
              "    height: 32px;\n",
              "    padding: 0;\n",
              "    width: 32px;\n",
              "  }\n",
              "\n",
              "  .colab-df-quickchart:hover {\n",
              "    background-color: var(--hover-bg-color);\n",
              "    box-shadow: 0 1px 2px rgba(60, 64, 67, 0.3), 0 1px 3px 1px rgba(60, 64, 67, 0.15);\n",
              "    fill: var(--button-hover-fill-color);\n",
              "  }\n",
              "\n",
              "  .colab-df-quickchart-complete:disabled,\n",
              "  .colab-df-quickchart-complete:disabled:hover {\n",
              "    background-color: var(--disabled-bg-color);\n",
              "    fill: var(--disabled-fill-color);\n",
              "    box-shadow: none;\n",
              "  }\n",
              "\n",
              "  .colab-df-spinner {\n",
              "    border: 2px solid var(--fill-color);\n",
              "    border-color: transparent;\n",
              "    border-bottom-color: var(--fill-color);\n",
              "    animation:\n",
              "      spin 1s steps(1) infinite;\n",
              "  }\n",
              "\n",
              "  @keyframes spin {\n",
              "    0% {\n",
              "      border-color: transparent;\n",
              "      border-bottom-color: var(--fill-color);\n",
              "      border-left-color: var(--fill-color);\n",
              "    }\n",
              "    20% {\n",
              "      border-color: transparent;\n",
              "      border-left-color: var(--fill-color);\n",
              "      border-top-color: var(--fill-color);\n",
              "    }\n",
              "    30% {\n",
              "      border-color: transparent;\n",
              "      border-left-color: var(--fill-color);\n",
              "      border-top-color: var(--fill-color);\n",
              "      border-right-color: var(--fill-color);\n",
              "    }\n",
              "    40% {\n",
              "      border-color: transparent;\n",
              "      border-right-color: var(--fill-color);\n",
              "      border-top-color: var(--fill-color);\n",
              "    }\n",
              "    60% {\n",
              "      border-color: transparent;\n",
              "      border-right-color: var(--fill-color);\n",
              "    }\n",
              "    80% {\n",
              "      border-color: transparent;\n",
              "      border-right-color: var(--fill-color);\n",
              "      border-bottom-color: var(--fill-color);\n",
              "    }\n",
              "    90% {\n",
              "      border-color: transparent;\n",
              "      border-bottom-color: var(--fill-color);\n",
              "    }\n",
              "  }\n",
              "</style>\n",
              "\n",
              "  <script>\n",
              "    async function quickchart(key) {\n",
              "      const quickchartButtonEl =\n",
              "        document.querySelector('#' + key + ' button');\n",
              "      quickchartButtonEl.disabled = true;  // To prevent multiple clicks.\n",
              "      quickchartButtonEl.classList.add('colab-df-spinner');\n",
              "      try {\n",
              "        const charts = await google.colab.kernel.invokeFunction(\n",
              "            'suggestCharts', [key], {});\n",
              "      } catch (error) {\n",
              "        console.error('Error during call to suggestCharts:', error);\n",
              "      }\n",
              "      quickchartButtonEl.classList.remove('colab-df-spinner');\n",
              "      quickchartButtonEl.classList.add('colab-df-quickchart-complete');\n",
              "    }\n",
              "    (() => {\n",
              "      let quickchartButtonEl =\n",
              "        document.querySelector('#df-b51c0553-c4f0-4319-bed2-ea8d5fadba6d button');\n",
              "      quickchartButtonEl.style.display =\n",
              "        google.colab.kernel.accessAllowed ? 'block' : 'none';\n",
              "    })();\n",
              "  </script>\n",
              "</div>\n",
              "\n",
              "  <div id=\"id_a8d7749f-3966-4467-9684-a5467b8a3213\">\n",
              "    <style>\n",
              "      .colab-df-generate {\n",
              "        background-color: #E8F0FE;\n",
              "        border: none;\n",
              "        border-radius: 50%;\n",
              "        cursor: pointer;\n",
              "        display: none;\n",
              "        fill: #1967D2;\n",
              "        height: 32px;\n",
              "        padding: 0 0 0 0;\n",
              "        width: 32px;\n",
              "      }\n",
              "\n",
              "      .colab-df-generate:hover {\n",
              "        background-color: #E2EBFA;\n",
              "        box-shadow: 0px 1px 2px rgba(60, 64, 67, 0.3), 0px 1px 3px 1px rgba(60, 64, 67, 0.15);\n",
              "        fill: #174EA6;\n",
              "      }\n",
              "\n",
              "      [theme=dark] .colab-df-generate {\n",
              "        background-color: #3B4455;\n",
              "        fill: #D2E3FC;\n",
              "      }\n",
              "\n",
              "      [theme=dark] .colab-df-generate:hover {\n",
              "        background-color: #434B5C;\n",
              "        box-shadow: 0px 1px 3px 1px rgba(0, 0, 0, 0.15);\n",
              "        filter: drop-shadow(0px 1px 2px rgba(0, 0, 0, 0.3));\n",
              "        fill: #FFFFFF;\n",
              "      }\n",
              "    </style>\n",
              "    <button class=\"colab-df-generate\" onclick=\"generateWithVariable('loan')\"\n",
              "            title=\"Generate code using this dataframe.\"\n",
              "            style=\"display:none;\">\n",
              "\n",
              "  <svg xmlns=\"http://www.w3.org/2000/svg\" height=\"24px\"viewBox=\"0 0 24 24\"\n",
              "       width=\"24px\">\n",
              "    <path d=\"M7,19H8.4L18.45,9,17,7.55,7,17.6ZM5,21V16.75L18.45,3.32a2,2,0,0,1,2.83,0l1.4,1.43a1.91,1.91,0,0,1,.58,1.4,1.91,1.91,0,0,1-.58,1.4L9.25,21ZM18.45,9,17,7.55Zm-12,3A5.31,5.31,0,0,0,4.9,8.1,5.31,5.31,0,0,0,1,6.5,5.31,5.31,0,0,0,4.9,4.9,5.31,5.31,0,0,0,6.5,1,5.31,5.31,0,0,0,8.1,4.9,5.31,5.31,0,0,0,12,6.5,5.46,5.46,0,0,0,6.5,12Z\"/>\n",
              "  </svg>\n",
              "    </button>\n",
              "    <script>\n",
              "      (() => {\n",
              "      const buttonEl =\n",
              "        document.querySelector('#id_a8d7749f-3966-4467-9684-a5467b8a3213 button.colab-df-generate');\n",
              "      buttonEl.style.display =\n",
              "        google.colab.kernel.accessAllowed ? 'block' : 'none';\n",
              "\n",
              "      buttonEl.onclick = () => {\n",
              "        google.colab.notebook.generateWithVariable('loan');\n",
              "      }\n",
              "      })();\n",
              "    </script>\n",
              "  </div>\n",
              "\n",
              "    </div>\n",
              "  </div>\n"
            ],
            "application/vnd.google.colaboratory.intrinsic+json": {
              "type": "dataframe",
              "variable_name": "loan",
              "summary": "{\n  \"name\": \"loan\",\n  \"rows\": 50,\n  \"fields\": [\n    {\n      \"column\": \"person_age\",\n      \"properties\": {\n        \"dtype\": \"number\",\n        \"std\": 1.5748015748023616,\n        \"min\": 21.0,\n        \"max\": 26.0,\n        \"num_unique_values\": 6,\n        \"samples\": [\n          22.0,\n          25.0,\n          23.0\n        ],\n        \"semantic_type\": \"\",\n        \"description\": \"\"\n      }\n    },\n    {\n      \"column\": \"person_gender\",\n      \"properties\": {\n        \"dtype\": \"category\",\n        \"num_unique_values\": 2,\n        \"samples\": [\n          \"male\",\n          \"female\"\n        ],\n        \"semantic_type\": \"\",\n        \"description\": \"\"\n      }\n    },\n    {\n      \"column\": \"person_education\",\n      \"properties\": {\n        \"dtype\": \"category\",\n        \"num_unique_values\": 4,\n        \"samples\": [\n          \"Bachelor\",\n          \"Associate\"\n        ],\n        \"semantic_type\": \"\",\n        \"description\": \"\"\n      }\n    },\n    {\n      \"column\": \"person_income\",\n      \"properties\": {\n        \"dtype\": \"number\",\n        \"std\": 80666.00952160957,\n        \"min\": 16890.0,\n        \"max\": 345520.0,\n        \"num_unique_values\": 50,\n        \"samples\": [\n          80452.0,\n          103166.0\n        ],\n        \"semantic_type\": \"\",\n        \"description\": \"\"\n      }\n    },\n    {\n      \"column\": \"person_emp_exp\",\n      \"properties\": {\n        \"dtype\": \"number\",\n        \"std\": 1,\n        \"min\": 0,\n        \"max\": 6,\n        \"num_unique_values\": 7,\n        \"samples\": [\n          0,\n          5\n        ],\n        \"semantic_type\": \"\",\n        \"description\": \"\"\n      }\n    },\n    {\n      \"column\": \"person_home_ownership\",\n      \"properties\": {\n        \"dtype\": \"category\",\n        \"num_unique_values\": 4,\n        \"samples\": [\n          \"MORTGAGE\",\n          \"OTHER\"\n        ],\n        \"semantic_type\": \"\",\n        \"description\": \"\"\n      }\n    },\n    {\n      \"column\": \"loan_amnt\",\n      \"properties\": {\n        \"dtype\": \"number\",\n        \"std\": 8976.908926660168,\n        \"min\": 1200.0,\n        \"max\": 35000.0,\n        \"num_unique_values\": 28,\n        \"samples\": [\n          24250.0,\n          18950.0\n        ],\n        \"semantic_type\": \"\",\n        \"description\": \"\"\n      }\n    },\n    {\n      \"column\": \"loan_intent\",\n      \"properties\": {\n        \"dtype\": \"category\",\n        \"num_unique_values\": 6,\n        \"samples\": [\n          \"PERSONAL\",\n          \"VENTURE\"\n        ],\n        \"semantic_type\": \"\",\n        \"description\": \"\"\n      }\n    },\n    {\n      \"column\": \"loan_int_rate\",\n      \"properties\": {\n        \"dtype\": \"number\",\n        \"std\": 3.351027408702822,\n        \"min\": 5.99,\n        \"max\": 19.69,\n        \"num_unique_values\": 40,\n        \"samples\": [\n          17.56,\n          12.73\n        ],\n        \"semantic_type\": \"\",\n        \"description\": \"\"\n      }\n    },\n    {\n      \"column\": \"loan_percent_income\",\n      \"properties\": {\n        \"dtype\": \"number\",\n        \"std\": 0.13925457527382673,\n        \"min\": 0.01,\n        \"max\": 0.66,\n        \"num_unique_values\": 32,\n        \"samples\": [\n          0.13,\n          0.07\n        ],\n        \"semantic_type\": \"\",\n        \"description\": \"\"\n      }\n    },\n    {\n      \"column\": \"cb_person_cred_hist_length\",\n      \"properties\": {\n        \"dtype\": \"number\",\n        \"std\": 0.7669180303696884,\n        \"min\": 2.0,\n        \"max\": 4.0,\n        \"num_unique_values\": 3,\n        \"samples\": [\n          3.0,\n          4.0\n        ],\n        \"semantic_type\": \"\",\n        \"description\": \"\"\n      }\n    },\n    {\n      \"column\": \"credit_score\",\n      \"properties\": {\n        \"dtype\": \"number\",\n        \"std\": 41,\n        \"min\": 521,\n        \"max\": 718,\n        \"num_unique_values\": 43,\n        \"samples\": [\n          600,\n          593\n        ],\n        \"semantic_type\": \"\",\n        \"description\": \"\"\n      }\n    },\n    {\n      \"column\": \"previous_loan_defaults_on_file\",\n      \"properties\": {\n        \"dtype\": \"category\",\n        \"num_unique_values\": 2,\n        \"samples\": [\n          \"Yes\",\n          \"No\"\n        ],\n        \"semantic_type\": \"\",\n        \"description\": \"\"\n      }\n    },\n    {\n      \"column\": \"loan_status\",\n      \"properties\": {\n        \"dtype\": \"number\",\n        \"std\": 0,\n        \"min\": 0,\n        \"max\": 1,\n        \"num_unique_values\": 2,\n        \"samples\": [\n          0,\n          1\n        ],\n        \"semantic_type\": \"\",\n        \"description\": \"\"\n      }\n    }\n  ]\n}"
            }
          },
          "metadata": {},
          "execution_count": 52
        }
      ]
    },
    {
      "cell_type": "markdown",
      "source": [
        "###**Casual Diagram**"
      ],
      "metadata": {
        "id": "SnMawyHWtM7s"
      }
    },
    {
      "cell_type": "markdown",
      "source": [
        "####**The code**"
      ],
      "metadata": {
        "id": "2A6A2NRNtR-5"
      }
    },
    {
      "cell_type": "code",
      "source": [
        "import graphviz\n",
        "\n",
        "dot = graphviz.Digraph(format='png')\n",
        "\n",
        "dot.node(\"Age\", \"Person Age\")\n",
        "dot.node(\"Education\", \"Education Level\")\n",
        "dot.node(\"Income\", \"Applicant Income\")\n",
        "dot.node(\"LoanIntent\", \"Loan Intent\")\n",
        "dot.node(\"LoanAmt\", \"Loan Amount\")\n",
        "dot.node(\"LoanIntRate\", \"Loan Interest Rate\")\n",
        "dot.node(\"LoanPctIncome\", \"Loan % of Income\")\n",
        "dot.node(\"CreditScore\", \"Credit Score\")\n",
        "\n",
        "\n",
        "dot.node(\"InterestRates\", \"Interest Rates\")\n",
        "dot.node(\"Inflation\", \"Inflation Rate\")\n",
        "dot.node(\"EconomicConditions\", \"Economic Conditions\")\n",
        "dot.node(\"BankPolicies\", \"Bank Lending Policies\")\n",
        "dot.node(\"MarketTrends\", \"Housing & Market Trends\")\n",
        "\n",
        "\n",
        "dot.edge(\"Age\", \"LoanAmt\")\n",
        "dot.edge(\"Education\", \"LoanAmt\")\n",
        "dot.edge(\"Income\", \"LoanAmt\")\n",
        "dot.edge(\"LoanIntent\", \"LoanAmt\")\n",
        "dot.edge(\"LoanIntRate\", \"LoanAmt\")\n",
        "dot.edge(\"LoanPctIncome\", \"LoanAmt\")\n",
        "dot.edge(\"CreditScore\", \"LoanAmt\")\n",
        "\n",
        "\n",
        "dot.edge(\"InterestRates\", \"LoanIntRate\")\n",
        "dot.edge(\"Inflation\", \"LoanIntRate\")\n",
        "dot.edge(\"EconomicConditions\", \"Income\")\n",
        "dot.edge(\"BankPolicies\", \"LoanIntRate\")\n",
        "dot.edge(\"MarketTrends\", \"LoanAmt\")\n",
        "\n",
        "dot.edge(\"Age\", \"CreditScore\")\n",
        "dot.edge(\"Age\", \"Income\")\n",
        "dot.edge(\"Education\", \"Income\")\n",
        "dot.edge(\"Income\", \"CreditScore\")\n",
        "dot.edge(\"CreditScore\", \"LoanIntRate\")\n",
        "dot.edge(\"LoanIntRate\", \"LoanPctIncome\")\n",
        "\n"
      ],
      "metadata": {
        "id": "1spgk4aMxe-t"
      },
      "execution_count": 53,
      "outputs": []
    },
    {
      "cell_type": "markdown",
      "source": [
        "####**The resulting Casual**"
      ],
      "metadata": {
        "id": "3M_6-X5RtXzt"
      }
    },
    {
      "cell_type": "code",
      "source": [
        "dot"
      ],
      "metadata": {
        "colab": {
          "base_uri": "https://localhost:8080/",
          "height": 560
        },
        "id": "zUHRalyRtXJs",
        "outputId": "979853dd-0229-4b1a-aa62-7447de13fa54"
      },
      "execution_count": 54,
      "outputs": [
        {
          "output_type": "execute_result",
          "data": {
            "image/svg+xml": "<?xml version=\"1.0\" encoding=\"UTF-8\" standalone=\"no\"?>\n<!DOCTYPE svg PUBLIC \"-//W3C//DTD SVG 1.1//EN\"\n \"http://www.w3.org/Graphics/SVG/1.1/DTD/svg11.dtd\">\n<!-- Generated by graphviz version 2.43.0 (0)\n -->\n<!-- Title: %3 Pages: 1 -->\n<svg width=\"1046pt\" height=\"404pt\"\n viewBox=\"0.00 0.00 1045.64 404.00\" xmlns=\"http://www.w3.org/2000/svg\" xmlns:xlink=\"http://www.w3.org/1999/xlink\">\n<g id=\"graph0\" class=\"graph\" transform=\"scale(1 1) rotate(0) translate(4 400)\">\n<title>%3</title>\n<polygon fill=\"white\" stroke=\"transparent\" points=\"-4,4 -4,-400 1041.64,-400 1041.64,4 -4,4\"/>\n<!-- Age -->\n<g id=\"node1\" class=\"node\">\n<title>Age</title>\n<ellipse fill=\"none\" stroke=\"black\" cx=\"83\" cy=\"-378\" rx=\"51.19\" ry=\"18\"/>\n<text text-anchor=\"middle\" x=\"83\" y=\"-374.3\" font-family=\"Times,serif\" font-size=\"14.00\">Person Age</text>\n</g>\n<!-- Income -->\n<g id=\"node3\" class=\"node\">\n<title>Income</title>\n<ellipse fill=\"none\" stroke=\"black\" cx=\"306\" cy=\"-306\" rx=\"74.99\" ry=\"18\"/>\n<text text-anchor=\"middle\" x=\"306\" y=\"-302.3\" font-family=\"Times,serif\" font-size=\"14.00\">Applicant Income</text>\n</g>\n<!-- Age&#45;&gt;Income -->\n<g id=\"edge14\" class=\"edge\">\n<title>Age&#45;&gt;Income</title>\n<path fill=\"none\" stroke=\"black\" d=\"M119.82,-365.44C156.01,-354.08 211.63,-336.62 252.66,-323.74\"/>\n<polygon fill=\"black\" stroke=\"black\" points=\"253.73,-327.08 262.23,-320.74 251.64,-320.4 253.73,-327.08\"/>\n</g>\n<!-- LoanAmt -->\n<g id=\"node5\" class=\"node\">\n<title>LoanAmt</title>\n<ellipse fill=\"none\" stroke=\"black\" cx=\"621\" cy=\"-18\" rx=\"59.59\" ry=\"18\"/>\n<text text-anchor=\"middle\" x=\"621\" y=\"-14.3\" font-family=\"Times,serif\" font-size=\"14.00\">Loan Amount</text>\n</g>\n<!-- Age&#45;&gt;LoanAmt -->\n<g id=\"edge1\" class=\"edge\">\n<title>Age&#45;&gt;LoanAmt</title>\n<path fill=\"none\" stroke=\"black\" d=\"M65.8,-360.89C41.49,-336.27 0,-286.68 0,-235 0,-235 0,-235 0,-161 0,-48.99 388.77,-25.33 551.1,-20.34\"/>\n<polygon fill=\"black\" stroke=\"black\" points=\"551.56,-23.83 561.46,-20.03 551.36,-16.83 551.56,-23.83\"/>\n</g>\n<!-- CreditScore -->\n<g id=\"node8\" class=\"node\">\n<title>CreditScore</title>\n<ellipse fill=\"none\" stroke=\"black\" cx=\"83\" cy=\"-234\" rx=\"55.49\" ry=\"18\"/>\n<text text-anchor=\"middle\" x=\"83\" y=\"-230.3\" font-family=\"Times,serif\" font-size=\"14.00\">Credit Score</text>\n</g>\n<!-- Age&#45;&gt;CreditScore -->\n<g id=\"edge13\" class=\"edge\">\n<title>Age&#45;&gt;CreditScore</title>\n<path fill=\"none\" stroke=\"black\" d=\"M83,-359.87C83,-335.67 83,-291.21 83,-262.39\"/>\n<polygon fill=\"black\" stroke=\"black\" points=\"86.5,-262.19 83,-252.19 79.5,-262.19 86.5,-262.19\"/>\n</g>\n<!-- Education -->\n<g id=\"node2\" class=\"node\">\n<title>Education</title>\n<ellipse fill=\"none\" stroke=\"black\" cx=\"612\" cy=\"-378\" rx=\"68.79\" ry=\"18\"/>\n<text text-anchor=\"middle\" x=\"612\" y=\"-374.3\" font-family=\"Times,serif\" font-size=\"14.00\">Education Level</text>\n</g>\n<!-- Education&#45;&gt;Income -->\n<g id=\"edge15\" class=\"edge\">\n<title>Education&#45;&gt;Income</title>\n<path fill=\"none\" stroke=\"black\" d=\"M561.81,-365.52C508.87,-353.41 425.36,-334.3 368.25,-321.24\"/>\n<polygon fill=\"black\" stroke=\"black\" points=\"368.79,-317.77 358.26,-318.96 367.23,-324.6 368.79,-317.77\"/>\n</g>\n<!-- Education&#45;&gt;LoanAmt -->\n<g id=\"edge2\" class=\"edge\">\n<title>Education&#45;&gt;LoanAmt</title>\n<path fill=\"none\" stroke=\"black\" d=\"M625.68,-360.25C645.01,-334.82 678,-284.21 678,-235 678,-235 678,-235 678,-161 678,-120.25 672.35,-109.32 656,-72 651.8,-62.41 645.89,-52.63 640.13,-44.14\"/>\n<polygon fill=\"black\" stroke=\"black\" points=\"642.88,-41.96 634.25,-35.8 637.16,-45.99 642.88,-41.96\"/>\n</g>\n<!-- Income&#45;&gt;LoanAmt -->\n<g id=\"edge3\" class=\"edge\">\n<title>Income&#45;&gt;LoanAmt</title>\n<path fill=\"none\" stroke=\"black\" d=\"M379.93,-303.19C463.15,-299.42 590.74,-287.78 621,-252 670.65,-193.3 646.58,-93.34 630.88,-45.73\"/>\n<polygon fill=\"black\" stroke=\"black\" points=\"634.15,-44.46 627.6,-36.14 627.53,-46.73 634.15,-44.46\"/>\n</g>\n<!-- Income&#45;&gt;CreditScore -->\n<g id=\"edge16\" class=\"edge\">\n<title>Income&#45;&gt;CreditScore</title>\n<path fill=\"none\" stroke=\"black\" d=\"M262.47,-291.34C224.73,-279.49 170.19,-262.37 131.15,-250.11\"/>\n<polygon fill=\"black\" stroke=\"black\" points=\"132.17,-246.76 121.58,-247.11 130.07,-253.44 132.17,-246.76\"/>\n</g>\n<!-- LoanIntent -->\n<g id=\"node4\" class=\"node\">\n<title>LoanIntent</title>\n<ellipse fill=\"none\" stroke=\"black\" cx=\"758\" cy=\"-90\" rx=\"51.99\" ry=\"18\"/>\n<text text-anchor=\"middle\" x=\"758\" y=\"-86.3\" font-family=\"Times,serif\" font-size=\"14.00\">Loan Intent</text>\n</g>\n<!-- LoanIntent&#45;&gt;LoanAmt -->\n<g id=\"edge4\" class=\"edge\">\n<title>LoanIntent&#45;&gt;LoanAmt</title>\n<path fill=\"none\" stroke=\"black\" d=\"M729.95,-74.67C709.44,-64.19 681.41,-49.86 658.91,-38.37\"/>\n<polygon fill=\"black\" stroke=\"black\" points=\"660.46,-35.23 649.96,-33.8 657.27,-41.46 660.46,-35.23\"/>\n</g>\n<!-- LoanIntRate -->\n<g id=\"node6\" class=\"node\">\n<title>LoanIntRate</title>\n<ellipse fill=\"none\" stroke=\"black\" cx=\"399\" cy=\"-162\" rx=\"76.09\" ry=\"18\"/>\n<text text-anchor=\"middle\" x=\"399\" y=\"-158.3\" font-family=\"Times,serif\" font-size=\"14.00\">Loan Interest Rate</text>\n</g>\n<!-- LoanIntRate&#45;&gt;LoanAmt -->\n<g id=\"edge5\" class=\"edge\">\n<title>LoanIntRate&#45;&gt;LoanAmt</title>\n<path fill=\"none\" stroke=\"black\" d=\"M449.79,-148.52C478.22,-140 513.38,-126.81 541,-108 566.28,-90.78 588.94,-63.94 603.63,-44.23\"/>\n<polygon fill=\"black\" stroke=\"black\" points=\"606.57,-46.15 609.62,-36 600.9,-42.03 606.57,-46.15\"/>\n</g>\n<!-- LoanPctIncome -->\n<g id=\"node7\" class=\"node\">\n<title>LoanPctIncome</title>\n<ellipse fill=\"none\" stroke=\"black\" cx=\"454\" cy=\"-90\" rx=\"77.99\" ry=\"18\"/>\n<text text-anchor=\"middle\" x=\"454\" y=\"-86.3\" font-family=\"Times,serif\" font-size=\"14.00\">Loan % of Income</text>\n</g>\n<!-- LoanIntRate&#45;&gt;LoanPctIncome -->\n<g id=\"edge18\" class=\"edge\">\n<title>LoanIntRate&#45;&gt;LoanPctIncome</title>\n<path fill=\"none\" stroke=\"black\" d=\"M412.31,-144.05C419,-135.54 427.23,-125.07 434.61,-115.68\"/>\n<polygon fill=\"black\" stroke=\"black\" points=\"437.38,-117.81 440.81,-107.79 431.88,-113.49 437.38,-117.81\"/>\n</g>\n<!-- LoanPctIncome&#45;&gt;LoanAmt -->\n<g id=\"edge6\" class=\"edge\">\n<title>LoanPctIncome&#45;&gt;LoanAmt</title>\n<path fill=\"none\" stroke=\"black\" d=\"M489.83,-73.98C515.72,-63.13 550.8,-48.42 578.18,-36.95\"/>\n<polygon fill=\"black\" stroke=\"black\" points=\"579.64,-40.13 587.51,-33.04 576.93,-33.68 579.64,-40.13\"/>\n</g>\n<!-- CreditScore&#45;&gt;LoanAmt -->\n<g id=\"edge7\" class=\"edge\">\n<title>CreditScore&#45;&gt;LoanAmt</title>\n<path fill=\"none\" stroke=\"black\" d=\"M105.01,-217.32C151.24,-185.13 262.8,-111.31 367,-72 429.04,-48.6 503.7,-34.59 555.97,-26.9\"/>\n<polygon fill=\"black\" stroke=\"black\" points=\"556.71,-30.33 566.11,-25.45 555.71,-23.4 556.71,-30.33\"/>\n</g>\n<!-- CreditScore&#45;&gt;LoanIntRate -->\n<g id=\"edge17\" class=\"edge\">\n<title>CreditScore&#45;&gt;LoanIntRate</title>\n<path fill=\"none\" stroke=\"black\" d=\"M123.89,-221.8C131.55,-219.8 139.51,-217.78 147,-216 209.59,-201.12 281.44,-186.22 332.37,-176.02\"/>\n<polygon fill=\"black\" stroke=\"black\" points=\"333.14,-179.44 342.26,-174.05 331.77,-172.57 333.14,-179.44\"/>\n</g>\n<!-- InterestRates -->\n<g id=\"node9\" class=\"node\">\n<title>InterestRates</title>\n<ellipse fill=\"none\" stroke=\"black\" cx=\"553\" cy=\"-234\" rx=\"59.29\" ry=\"18\"/>\n<text text-anchor=\"middle\" x=\"553\" y=\"-230.3\" font-family=\"Times,serif\" font-size=\"14.00\">Interest Rates</text>\n</g>\n<!-- InterestRates&#45;&gt;LoanIntRate -->\n<g id=\"edge8\" class=\"edge\">\n<title>InterestRates&#45;&gt;LoanIntRate</title>\n<path fill=\"none\" stroke=\"black\" d=\"M521.46,-218.67C498.52,-208.24 467.19,-194 441.97,-182.53\"/>\n<polygon fill=\"black\" stroke=\"black\" points=\"443.18,-179.24 432.63,-178.29 440.28,-185.61 443.18,-179.24\"/>\n</g>\n<!-- Inflation -->\n<g id=\"node10\" class=\"node\">\n<title>Inflation</title>\n<ellipse fill=\"none\" stroke=\"black\" cx=\"216\" cy=\"-234\" rx=\"59.59\" ry=\"18\"/>\n<text text-anchor=\"middle\" x=\"216\" y=\"-230.3\" font-family=\"Times,serif\" font-size=\"14.00\">Inflation Rate</text>\n</g>\n<!-- Inflation&#45;&gt;LoanIntRate -->\n<g id=\"edge9\" class=\"edge\">\n<title>Inflation&#45;&gt;LoanIntRate</title>\n<path fill=\"none\" stroke=\"black\" d=\"M251.72,-219.34C280.19,-208.45 320.3,-193.1 351.48,-181.18\"/>\n<polygon fill=\"black\" stroke=\"black\" points=\"352.76,-184.44 360.85,-177.59 350.26,-177.9 352.76,-184.44\"/>\n</g>\n<!-- EconomicConditions -->\n<g id=\"node11\" class=\"node\">\n<title>EconomicConditions</title>\n<ellipse fill=\"none\" stroke=\"black\" cx=\"306\" cy=\"-378\" rx=\"87.99\" ry=\"18\"/>\n<text text-anchor=\"middle\" x=\"306\" y=\"-374.3\" font-family=\"Times,serif\" font-size=\"14.00\">Economic Conditions</text>\n</g>\n<!-- EconomicConditions&#45;&gt;Income -->\n<g id=\"edge10\" class=\"edge\">\n<title>EconomicConditions&#45;&gt;Income</title>\n<path fill=\"none\" stroke=\"black\" d=\"M306,-359.7C306,-351.98 306,-342.71 306,-334.11\"/>\n<polygon fill=\"black\" stroke=\"black\" points=\"309.5,-334.1 306,-324.1 302.5,-334.1 309.5,-334.1\"/>\n</g>\n<!-- BankPolicies -->\n<g id=\"node12\" class=\"node\">\n<title>BankPolicies</title>\n<ellipse fill=\"none\" stroke=\"black\" cx=\"385\" cy=\"-234\" rx=\"90.98\" ry=\"18\"/>\n<text text-anchor=\"middle\" x=\"385\" y=\"-230.3\" font-family=\"Times,serif\" font-size=\"14.00\">Bank Lending Policies</text>\n</g>\n<!-- BankPolicies&#45;&gt;LoanIntRate -->\n<g id=\"edge11\" class=\"edge\">\n<title>BankPolicies&#45;&gt;LoanIntRate</title>\n<path fill=\"none\" stroke=\"black\" d=\"M388.46,-215.7C390,-207.98 391.86,-198.71 393.58,-190.11\"/>\n<polygon fill=\"black\" stroke=\"black\" points=\"397.05,-190.6 395.58,-180.1 390.19,-189.22 397.05,-190.6\"/>\n</g>\n<!-- MarketTrends -->\n<g id=\"node13\" class=\"node\">\n<title>MarketTrends</title>\n<ellipse fill=\"none\" stroke=\"black\" cx=\"933\" cy=\"-90\" rx=\"104.78\" ry=\"18\"/>\n<text text-anchor=\"middle\" x=\"933\" y=\"-86.3\" font-family=\"Times,serif\" font-size=\"14.00\">Housing &amp; Market Trends</text>\n</g>\n<!-- MarketTrends&#45;&gt;LoanAmt -->\n<g id=\"edge12\" class=\"edge\">\n<title>MarketTrends&#45;&gt;LoanAmt</title>\n<path fill=\"none\" stroke=\"black\" d=\"M872.1,-75.34C815.67,-62.68 732.4,-43.99 677.44,-31.66\"/>\n<polygon fill=\"black\" stroke=\"black\" points=\"678.05,-28.21 667.52,-29.44 676.51,-35.04 678.05,-28.21\"/>\n</g>\n</g>\n</svg>\n",
            "text/plain": [
              "<graphviz.graphs.Digraph at 0x7aad4a735490>"
            ]
          },
          "metadata": {},
          "execution_count": 54
        }
      ]
    },
    {
      "cell_type": "markdown",
      "source": [
        "For my Models, I will focus in on how a persons Income, Age, and Credit score affects the loan amounts that they get. As you can see in my Casual Diagram, there are many factors, but why did I choose Income, Age, and Credit Score? Well, I believe that those 3 factors, compared to the rest, affect the Loan Amount that they get the most. While factors like Loan % of Income and Interest Rates do affect the Loan Amount, I think that the 3 factors im using affects Loan Amounts more and I would rather focus on those 3 than the other variables. As for the other factors, I either thought that they were not as important or I just did not have any data on them.\n",
        "\n",
        "(Also, according to my casual diagram, there is interaction between those 3 factors which I wanted to find out more about)"
      ],
      "metadata": {
        "id": "r5nTh7Jiu4tm"
      }
    },
    {
      "cell_type": "markdown",
      "source": [
        "##**My models**"
      ],
      "metadata": {
        "id": "OY1WeTcwtfON"
      }
    },
    {
      "cell_type": "markdown",
      "source": [
        "For my models, I will be making 6 models:\n",
        "1. Polynomial model with person income\n",
        "2. Bspline with person income\n",
        "3. Bspline with person income and credit score\n",
        "4. Bspline with person income and person age\n",
        "5. Bspline with credit score and person age\n",
        "6. Bspline with all three\n",
        "\n",
        "I chose B-splines and polynomial models over Gaussian Processes (GPs) because they are computationally more efficient, especially for large datasets like loan prediction, where GPs scale poorly (O(n³) complexity) (Wrote before I reduced my Sample size. So the time complexity would not be that much of a problem, but creating a GP is much more complicated thatn using polynomial or Bspline). B-splines capture local nonlinearity with controlled flexibility, while polynomials model (as long as you don't overfit) smooth global trends, making them well-suited for structured financial data with fixed predictors like income and credit score. GPs, while powerful, require heavy  tuning, making them less practical for this specific task .\n"
      ],
      "metadata": {
        "id": "GnwZk1g7v7Hj"
      }
    },
    {
      "cell_type": "markdown",
      "source": [
        "###**Knots**"
      ],
      "metadata": {
        "id": "Jdr-YcEZv3JJ"
      }
    },
    {
      "cell_type": "markdown",
      "source": [
        "Looking at my data set, I created knots for credit score, income, and age that I will use throughout my models"
      ],
      "metadata": {
        "id": "TDIJL0PZyqZC"
      }
    },
    {
      "cell_type": "code",
      "source": [
        "cs = [500, 650, 700]\n",
        "inc = [50000, 100000, 200000]\n",
        "age=[22, 25]"
      ],
      "metadata": {
        "id": "gYhu0Olwic-_"
      },
      "execution_count": 55,
      "outputs": []
    },
    {
      "cell_type": "markdown",
      "source": [
        "###**Model 1**"
      ],
      "metadata": {
        "id": "pQPb4ND7zp9d"
      }
    },
    {
      "cell_type": "code",
      "source": [
        "model_poly = bmb.Model(\"loan_amnt ~ poly(person_income, degree=4)\", loan, family=\"negativebinomial\")\n",
        "idata_poly = model_poly.fit(idata_kwargs={\"log_likelihood\": True})"
      ],
      "metadata": {
        "colab": {
          "base_uri": "https://localhost:8080/",
          "height": 119,
          "referenced_widgets": [
            "80d7fd547157489ea70d7655bb21a29d",
            "98d5d16477784bf89b9eb62c337a95de"
          ]
        },
        "id": "duKi_QU0ifIB",
        "outputId": "cc9c2a4c-0a71-41e1-abd8-86419c9e09d8"
      },
      "execution_count": 32,
      "outputs": [
        {
          "output_type": "display_data",
          "data": {
            "text/plain": [
              "Output()"
            ],
            "application/vnd.jupyter.widget-view+json": {
              "version_major": 2,
              "version_minor": 0,
              "model_id": "80d7fd547157489ea70d7655bb21a29d"
            }
          },
          "metadata": {}
        },
        {
          "output_type": "display_data",
          "data": {
            "text/plain": [],
            "text/html": [
              "<pre style=\"white-space:pre;overflow-x:auto;line-height:normal;font-family:Menlo,'DejaVu Sans Mono',consolas,'Courier New',monospace\"></pre>\n"
            ]
          },
          "metadata": {}
        }
      ]
    },
    {
      "cell_type": "code",
      "source": [
        "bmb.interpret.plot_predictions(model_poly, idata_poly, \"person_income\", pps=True)\n",
        "plt.plot(loan.person_income, loan.loan_amnt, \"C2.\", zorder=-3)"
      ],
      "metadata": {
        "colab": {
          "base_uri": "https://localhost:8080/",
          "height": 502
        },
        "id": "9teqMwsNiswx",
        "outputId": "5a21efb7-65e9-47f7-aca1-c26ab6aa959b"
      },
      "execution_count": 33,
      "outputs": [
        {
          "output_type": "stream",
          "name": "stderr",
          "text": [
            "/usr/local/lib/python3.11/dist-packages/arviz/rcparams.py:368: FutureWarning: stats.hdi_prob is deprecated since 0.18.0, use stats.ci_prob instead\n",
            "  warnings.warn(\n"
          ]
        },
        {
          "output_type": "execute_result",
          "data": {
            "text/plain": [
              "[<matplotlib.lines.Line2D at 0x7aad67ee7910>]"
            ]
          },
          "metadata": {},
          "execution_count": 33
        },
        {
          "output_type": "display_data",
          "data": {
            "text/plain": [
              "<Figure size 640x480 with 1 Axes>"
            ],
            "image/png": "[encoded data removed]"
          },
          "metadata": {}
        }
      ]
    },
    {
      "cell_type": "markdown",
      "source": [
        "###**Model 2**"
      ],
      "metadata": {
        "id": "yvNsYfB6zADm"
      }
    },
    {
      "cell_type": "code",
      "source": [
        "bspline_1 = bmb.Model(\n",
        "    \"loan_amnt ~ bs(person_income, knots=two)\",\n",
        "    loan,\n",
        "    family=\"negativebinomial\"\n",
        ")\n",
        "idata_1 = bspline_1.fit(idata_kwargs={\"log_likelihood\": True})"
      ],
      "metadata": {
        "colab": {
          "base_uri": "https://localhost:8080/",
          "height": 119,
          "referenced_widgets": [
            "32286e7ddb394795a33c67dcae2eafe2",
            "9457a452939b475da6ec833bff22424d"
          ]
        },
        "id": "5mKbtO0uKop9",
        "outputId": "d0540c2f-f8ac-4a61-9df6-b549f5adb9a6"
      },
      "execution_count": 44,
      "outputs": [
        {
          "output_type": "display_data",
          "data": {
            "text/plain": [
              "Output()"
            ],
            "application/vnd.jupyter.widget-view+json": {
              "version_major": 2,
              "version_minor": 0,
              "model_id": "32286e7ddb394795a33c67dcae2eafe2"
            }
          },
          "metadata": {}
        },
        {
          "output_type": "display_data",
          "data": {
            "text/plain": [],
            "text/html": [
              "<pre style=\"white-space:pre;overflow-x:auto;line-height:normal;font-family:Menlo,'DejaVu Sans Mono',consolas,'Courier New',monospace\"></pre>\n"
            ]
          },
          "metadata": {}
        }
      ]
    },
    {
      "cell_type": "code",
      "source": [
        "bmb.interpret.plot_predictions(bspline_1, idata_1, \"person_income\", pps=True)\n",
        "plt.plot(loan.person_income, loan.loan_amnt, \"C2.\", zorder=-3)"
      ],
      "metadata": {
        "colab": {
          "base_uri": "https://localhost:8080/",
          "height": 502
        },
        "id": "V1fcoTFxKpZA",
        "outputId": "7588643b-3bef-4002-9635-79504354ef87"
      },
      "execution_count": 46,
      "outputs": [
        {
          "output_type": "stream",
          "name": "stderr",
          "text": [
            "/usr/local/lib/python3.11/dist-packages/arviz/rcparams.py:368: FutureWarning: stats.hdi_prob is deprecated since 0.18.0, use stats.ci_prob instead\n",
            "  warnings.warn(\n"
          ]
        },
        {
          "output_type": "execute_result",
          "data": {
            "text/plain": [
              "[<matplotlib.lines.Line2D at 0x7aad4378f010>]"
            ]
          },
          "metadata": {},
          "execution_count": 46
        },
        {
          "output_type": "display_data",
          "data": {
            "text/plain": [
              "<Figure size 640x480 with 1 Axes>"
            ],
            "image/png": "[encoded data removed]"
          },
          "metadata": {}
        }
      ]
    },
    {
      "cell_type": "markdown",
      "source": [
        "###**Model 3**"
      ],
      "metadata": {
        "id": "xLGA87MtzFnn"
      }
    },
    {
      "cell_type": "code",
      "source": [
        "bspline_2 = bmb.Model(\n",
        "    \"loan_amnt ~ bs(person_income, knots=two) + bs(credit_score, knots=one)\",\n",
        "    loan,\n",
        "    family=\"negativebinomial\")\n",
        "idata_2 = bspline_2.fit(idata_kwargs={\"log_likelihood\": True})"
      ],
      "metadata": {
        "colab": {
          "base_uri": "https://localhost:8080/",
          "height": 119,
          "referenced_widgets": [
            "bac6791551734e2f89b81882f3f5ed2b",
            "43deb2e3813f4b91819c57d8c2f6eaff"
          ]
        },
        "id": "yMxeyTL_ndyG",
        "outputId": "2e23b9cd-0ab3-41d9-b40f-f07b253bc85a"
      },
      "execution_count": 70,
      "outputs": [
        {
          "output_type": "display_data",
          "data": {
            "text/plain": [
              "Output()"
            ],
            "application/vnd.jupyter.widget-view+json": {
              "version_major": 2,
              "version_minor": 0,
              "model_id": "bac6791551734e2f89b81882f3f5ed2b"
            }
          },
          "metadata": {}
        },
        {
          "output_type": "display_data",
          "data": {
            "text/plain": [],
            "text/html": [
              "<pre style=\"white-space:pre;overflow-x:auto;line-height:normal;font-family:Menlo,'DejaVu Sans Mono',consolas,'Courier New',monospace\"></pre>\n"
            ]
          },
          "metadata": {}
        }
      ]
    },
    {
      "cell_type": "code",
      "source": [
        "bmb.interpret.plot_predictions(bspline_2, idata_2, \"person_income\", pps=True)\n",
        "plt.plot(loan.person_income, loan.loan_amnt, \"C2.\", zorder=-3)"
      ],
      "metadata": {
        "colab": {
          "base_uri": "https://localhost:8080/",
          "height": 502
        },
        "id": "xq0wDmD4ni8d",
        "outputId": "91ceebbf-2026-4604-b686-653103679898"
      },
      "execution_count": 71,
      "outputs": [
        {
          "output_type": "stream",
          "name": "stderr",
          "text": [
            "/usr/local/lib/python3.11/dist-packages/arviz/rcparams.py:368: FutureWarning: stats.hdi_prob is deprecated since 0.18.0, use stats.ci_prob instead\n",
            "  warnings.warn(\n"
          ]
        },
        {
          "output_type": "execute_result",
          "data": {
            "text/plain": [
              "[<matplotlib.lines.Line2D at 0x7aad40ea1150>]"
            ]
          },
          "metadata": {},
          "execution_count": 71
        },
        {
          "output_type": "display_data",
          "data": {
            "text/plain": [
              "<Figure size 640x480 with 1 Axes>"
            ],
            "image/png": "[encoded data removed]"
          },
          "metadata": {}
        }
      ]
    },
    {
      "cell_type": "markdown",
      "source": [
        "###**Model 4**"
      ],
      "metadata": {
        "id": "Z3Eftu1azSV-"
      }
    },
    {
      "cell_type": "code",
      "source": [
        "bspline_4 = bmb.Model(\n",
        "    \"loan_amnt ~ bs(person_income, knots=two) + bs(person_age, knots=age)\",\n",
        "    loan,\n",
        "    family=\"negativebinomial\")\n",
        "idata_4 = bspline_4.fit(idata_kwargs={\"log_likelihood\": True})"
      ],
      "metadata": {
        "colab": {
          "base_uri": "https://localhost:8080/",
          "height": 119,
          "referenced_widgets": [
            "2e414b3036444890b84d1e8215f4325b",
            "80dc7a4bb90b49c7a9a85bbfb4170441"
          ]
        },
        "id": "IrlIQo46g1RJ",
        "outputId": "79db765d-8456-457e-a2ed-2e61cf32bf25"
      },
      "execution_count": 60,
      "outputs": [
        {
          "output_type": "display_data",
          "data": {
            "text/plain": [
              "Output()"
            ],
            "application/vnd.jupyter.widget-view+json": {
              "version_major": 2,
              "version_minor": 0,
              "model_id": "2e414b3036444890b84d1e8215f4325b"
            }
          },
          "metadata": {}
        },
        {
          "output_type": "display_data",
          "data": {
            "text/plain": [],
            "text/html": [
              "<pre style=\"white-space:pre;overflow-x:auto;line-height:normal;font-family:Menlo,'DejaVu Sans Mono',consolas,'Courier New',monospace\"></pre>\n"
            ]
          },
          "metadata": {}
        }
      ]
    },
    {
      "cell_type": "code",
      "source": [
        "bmb.interpret.plot_predictions(bspline_4, idata_4, \"person_income\", pps=True)\n",
        "plt.plot(loan.person_income, loan.loan_amnt, \"C2.\", zorder=-3)"
      ],
      "metadata": {
        "colab": {
          "base_uri": "https://localhost:8080/",
          "height": 502
        },
        "id": "mT3UZLpIznkL",
        "outputId": "720a1982-b684-4356-f23b-dadd969a70ad"
      },
      "execution_count": 62,
      "outputs": [
        {
          "output_type": "stream",
          "name": "stderr",
          "text": [
            "/usr/local/lib/python3.11/dist-packages/arviz/rcparams.py:368: FutureWarning: stats.hdi_prob is deprecated since 0.18.0, use stats.ci_prob instead\n",
            "  warnings.warn(\n"
          ]
        },
        {
          "output_type": "execute_result",
          "data": {
            "text/plain": [
              "[<matplotlib.lines.Line2D at 0x7aad4117a290>]"
            ]
          },
          "metadata": {},
          "execution_count": 62
        },
        {
          "output_type": "display_data",
          "data": {
            "text/plain": [
              "<Figure size 640x480 with 1 Axes>"
            ],
            "image/png": "[encoded data removed]"
          },
          "metadata": {}
        }
      ]
    },
    {
      "cell_type": "markdown",
      "source": [
        "###**Model 5**"
      ],
      "metadata": {
        "id": "pdYYEc_IzWk6"
      }
    },
    {
      "cell_type": "code",
      "source": [
        "bspline_5 = bmb.Model(\n",
        "    \"loan_amnt ~ bs(credit_score, knots=one) + bs(person_age, knots=age)\",\n",
        "    loan,\n",
        "    family=\"negativebinomial\")\n",
        "idata_5 = bspline_5.fit(idata_kwargs={\"log_likelihood\": True})"
      ],
      "metadata": {
        "colab": {
          "base_uri": "https://localhost:8080/",
          "height": 119,
          "referenced_widgets": [
            "d78e524d43de4d05a06eac1400e9cbd5",
            "7c0d0c273c9a464984e2d8d86979fde5"
          ]
        },
        "id": "0qMxFbnHoyBZ",
        "outputId": "6d9dd252-82da-4248-f815-5ed709966a69"
      },
      "execution_count": 68,
      "outputs": [
        {
          "output_type": "display_data",
          "data": {
            "text/plain": [
              "Output()"
            ],
            "application/vnd.jupyter.widget-view+json": {
              "version_major": 2,
              "version_minor": 0,
              "model_id": "d78e524d43de4d05a06eac1400e9cbd5"
            }
          },
          "metadata": {}
        },
        {
          "output_type": "display_data",
          "data": {
            "text/plain": [],
            "text/html": [
              "<pre style=\"white-space:pre;overflow-x:auto;line-height:normal;font-family:Menlo,'DejaVu Sans Mono',consolas,'Courier New',monospace\"></pre>\n"
            ]
          },
          "metadata": {}
        }
      ]
    },
    {
      "cell_type": "code",
      "source": [
        "bmb.interpret.plot_predictions(bspline_5, idata_5, \"credit_score\", pps=True)\n",
        "plt.plot(loan.credit_score, loan.loan_amnt, \"C2.\", zorder=-3)"
      ],
      "metadata": {
        "colab": {
          "base_uri": "https://localhost:8080/",
          "height": 502
        },
        "id": "Pa5RcnWMp813",
        "outputId": "6d2b8b86-ab23-4b0d-9a8e-096ef614ece6"
      },
      "execution_count": 69,
      "outputs": [
        {
          "output_type": "stream",
          "name": "stderr",
          "text": [
            "/usr/local/lib/python3.11/dist-packages/arviz/rcparams.py:368: FutureWarning: stats.hdi_prob is deprecated since 0.18.0, use stats.ci_prob instead\n",
            "  warnings.warn(\n"
          ]
        },
        {
          "output_type": "execute_result",
          "data": {
            "text/plain": [
              "[<matplotlib.lines.Line2D at 0x7aad45f94450>]"
            ]
          },
          "metadata": {},
          "execution_count": 69
        },
        {
          "output_type": "display_data",
          "data": {
            "text/plain": [
              "<Figure size 640x480 with 1 Axes>"
            ],
            "image/png": "[encoded data removed]"
          },
          "metadata": {}
        }
      ]
    },
    {
      "cell_type": "markdown",
      "source": [
        "###**Model 6**"
      ],
      "metadata": {
        "id": "NT7QvbrBzNdB"
      }
    },
    {
      "cell_type": "code",
      "source": [
        "bspline_3 = bmb.Model(\n",
        "    \"loan_amnt ~ bs(person_income, knots=two) + bs(credit_score, knots=one) + bs(person_age, knots=age)\",\n",
        "    loan,\n",
        "    family=\"negativebinomial\"\n",
        ")\n",
        "idata_3 = bspline_3.fit(idata_kwargs={\"log_likelihood\": True})"
      ],
      "metadata": {
        "colab": {
          "base_uri": "https://localhost:8080/",
          "height": 119,
          "referenced_widgets": [
            "17e8504ad5ff4e188989542f8fc1b6b9",
            "804a6251f33c4f579fdc0982906690bb"
          ]
        },
        "id": "E9z9_QsqAp_J",
        "outputId": "5637a410-2d4e-42ac-d932-2813aafeff6c"
      },
      "execution_count": 66,
      "outputs": [
        {
          "output_type": "display_data",
          "data": {
            "text/plain": [
              "Output()"
            ],
            "application/vnd.jupyter.widget-view+json": {
              "version_major": 2,
              "version_minor": 0,
              "model_id": "17e8504ad5ff4e188989542f8fc1b6b9"
            }
          },
          "metadata": {}
        },
        {
          "output_type": "display_data",
          "data": {
            "text/plain": [],
            "text/html": [
              "<pre style=\"white-space:pre;overflow-x:auto;line-height:normal;font-family:Menlo,'DejaVu Sans Mono',consolas,'Courier New',monospace\"></pre>\n"
            ]
          },
          "metadata": {}
        }
      ]
    },
    {
      "cell_type": "code",
      "source": [
        "bmb.interpret.plot_predictions(bspline_3, idata_3, \"person_income\", pps=True)\n",
        "plt.plot(loan.person_income, loan.loan_amnt, \"C2.\", zorder=-3)"
      ],
      "metadata": {
        "colab": {
          "base_uri": "https://localhost:8080/",
          "height": 502
        },
        "id": "0Pt0fyypBGGo",
        "outputId": "ec223846-1cb6-408d-96a7-96e7530ee804"
      },
      "execution_count": 67,
      "outputs": [
        {
          "output_type": "stream",
          "name": "stderr",
          "text": [
            "/usr/local/lib/python3.11/dist-packages/arviz/rcparams.py:368: FutureWarning: stats.hdi_prob is deprecated since 0.18.0, use stats.ci_prob instead\n",
            "  warnings.warn(\n"
          ]
        },
        {
          "output_type": "execute_result",
          "data": {
            "text/plain": [
              "[<matplotlib.lines.Line2D at 0x7aad67e913d0>]"
            ]
          },
          "metadata": {},
          "execution_count": 67
        },
        {
          "output_type": "display_data",
          "data": {
            "text/plain": [
              "<Figure size 640x480 with 1 Axes>"
            ],
            "image/png": "[encoded data removed]"
          },
          "metadata": {}
        }
      ]
    },
    {
      "cell_type": "markdown",
      "source": [
        "##**Conclusion**"
      ],
      "metadata": {
        "id": "RlYBkY4hzr3l"
      }
    },
    {
      "cell_type": "code",
      "source": [
        "bd = az.compare({\"inc\":idata_1, \"inc x cs\":idata_2, \"inc x age\":idata_3,\"cs x age\":idata_4, \"inc x cs x age\":idata_5,  \"poly inc\":idata_poly})\n",
        "az.plot_compare(bd)"
      ],
      "metadata": {
        "colab": {
          "base_uri": "https://localhost:8080/",
          "height": 940
        },
        "id": "6nM8ASCGNziN",
        "outputId": "dd857649-baec-43b0-81a0-a05bd52343ca"
      },
      "execution_count": 83,
      "outputs": [
        {
          "output_type": "stream",
          "name": "stderr",
          "text": [
            "/usr/local/lib/python3.11/dist-packages/arviz/stats/stats.py:795: UserWarning: Estimated shape parameter of Pareto distribution is greater than 0.70 for one or more samples. You should consider using a more robust model, this is because importance sampling is less likely to work well if the marginal posterior and LOO posterior are very different. This is more likely to happen with a non-robust model and highly influential observations.\n",
            "  warnings.warn(\n",
            "/usr/local/lib/python3.11/dist-packages/arviz/stats/stats.py:795: UserWarning: Estimated shape parameter of Pareto distribution is greater than 0.70 for one or more samples. You should consider using a more robust model, this is because importance sampling is less likely to work well if the marginal posterior and LOO posterior are very different. This is more likely to happen with a non-robust model and highly influential observations.\n",
            "  warnings.warn(\n",
            "/usr/local/lib/python3.11/dist-packages/arviz/stats/stats.py:795: UserWarning: Estimated shape parameter of Pareto distribution is greater than 0.70 for one or more samples. You should consider using a more robust model, this is because importance sampling is less likely to work well if the marginal posterior and LOO posterior are very different. This is more likely to happen with a non-robust model and highly influential observations.\n",
            "  warnings.warn(\n",
            "/usr/local/lib/python3.11/dist-packages/arviz/stats/stats.py:795: UserWarning: Estimated shape parameter of Pareto distribution is greater than 0.70 for one or more samples. You should consider using a more robust model, this is because importance sampling is less likely to work well if the marginal posterior and LOO posterior are very different. This is more likely to happen with a non-robust model and highly influential observations.\n",
            "  warnings.warn(\n",
            "/usr/local/lib/python3.11/dist-packages/arviz/stats/stats.py:795: UserWarning: Estimated shape parameter of Pareto distribution is greater than 0.70 for one or more samples. You should consider using a more robust model, this is because importance sampling is less likely to work well if the marginal posterior and LOO posterior are very different. This is more likely to happen with a non-robust model and highly influential observations.\n",
            "  warnings.warn(\n",
            "/usr/local/lib/python3.11/dist-packages/arviz/stats/stats.py:795: UserWarning: Estimated shape parameter of Pareto distribution is greater than 0.70 for one or more samples. You should consider using a more robust model, this is because importance sampling is less likely to work well if the marginal posterior and LOO posterior are very different. This is more likely to happen with a non-robust model and highly influential observations.\n",
            "  warnings.warn(\n"
          ]
        },
        {
          "output_type": "execute_result",
          "data": {
            "text/plain": [
              "<Axes: title={'center': 'Model comparison\\nhigher is better'}, xlabel='elpd_loo (log)', ylabel='ranked models'>"
            ]
          },
          "metadata": {},
          "execution_count": 83
        },
        {
          "output_type": "display_data",
          "data": {
            "text/plain": [
              "<Figure size 600x700 with 1 Axes>"
            ],
            "image/png": "[encoded data removed]"
          },
          "metadata": {}
        }
      ]
    },
    {
      "cell_type": "markdown",
      "source": [
        "Looking at the ELPD LOO scores, the polynomial model using only person income is the best. This makes sense because income is a huge factor in loan decisions, and the polynomial function is flexible enough to capture its relationship with loan amounts without overcomplicating things.\n",
        "\n",
        "The B-spline model with income and credit score also does well, showing that credit score adds some useful information, but it’s not as strong as just modeling income with a polynomial. Income alone as a Bspline also does well, but it does not outperform the income polynomial (Maybe because the knots I choose were not as good as I thought they were).The models that bring in age, either alone or with other variables, don’t perform as well, meaning age probably isn’t a great predictor in this dataset. The worst model is the B-spline with all three predictors, which likely means that adding too many variables introduced noise rather than improving predictions—basically, it overcomplicated things without adding value.\n",
        "\n",
        "This mostly fits expectations, since income is clearly the most important factor, but it’s surprising that B-splines with multiple predictors didn’t outperform a simple polynomial model."
      ],
      "metadata": {
        "id": "pXfl4H6O5GBy"
      }
    }
  ]
}