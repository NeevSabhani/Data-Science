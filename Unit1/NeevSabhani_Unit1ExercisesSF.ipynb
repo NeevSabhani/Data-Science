{
  "nbformat": 4,
  "nbformat_minor": 0,
  "metadata": {
    "colab": {
      "provenance": [],
      "include_colab_link": true
    },
    "kernelspec": {
      "name": "python3",
      "display_name": "Python 3"
    },
    "language_info": {
      "name": "python"
    }
  },
  "cells": [
    {
      "cell_type": "markdown",
      "metadata": {
        "id": "view-in-github",
        "colab_type": "text"
      },
      "source": [
        "<a href=\"https://colab.research.google.com/github/NeevSabhani/Data-Science/blob/main/Unit1/NeevSabhani_Unit1ExercisesSF.ipynb\" target=\"_parent\"><img src=\"https://colab.research.google.com/assets/colab-badge.svg\" alt=\"Open In Colab\"/></a>"
      ]
    },
    {
      "cell_type": "markdown",
      "source": [
        "# Unit 1 Exercises: Data Structure Concepts\n",
        "\n",
        "The following questions will ask you to describe the various objects we learned about in the first Unit.\n",
        "\n",
        "I'm not giving you coding exercises, because we will learn all the coding technqiues we need as we move through the course.\n",
        "\n",
        "What I do need from you right now, is a conceptual understanding how how data is stored in our computer, when we use python."
      ],
      "metadata": {
        "id": "65OCktLjbZmA"
      }
    },
    {
      "cell_type": "markdown",
      "source": [
        "**Task1**:\n",
        "\n",
        "Describe the similarities and differences between an int and a float in python."
      ],
      "metadata": {
        "id": "bt0bWe1evLtv"
      }
    },
    {
      "cell_type": "markdown",
      "source": [
        "Both of them are numbers that can be positive or negative, but floats can have decimals. Floats also have more bits than an integer. The problem with floats is that when doing mathematical operations, with floats, a lot of the time they round after the operation is finished, so while a few operations might be fine, if you do multiple operations, the value will be far off then what the actual value might be. With ints however, there wont be rounding involved therefore they will be more accurate."
      ],
      "metadata": {
        "id": "FW3KHt4yvt90"
      }
    },
    {
      "cell_type": "markdown",
      "source": [
        "**Task2**:\n",
        "\n",
        "Describe the similarities and differences between: strings, lists, and dicts."
      ],
      "metadata": {
        "id": "mJ_i6he5wwgr"
      }
    },
    {
      "cell_type": "markdown",
      "source": [
        "A string is a sequence of ASCII characters with quotation marks to indicate the start and the end of the string. A list a collection of data types which are usually all the same but does not have to be. A list is also defined using []. A dictionary is similar to a list but we can asign a key to certain values.\n",
        "Lists and dicts can have strings within them; however, they can also have different types. They all have indexes, and only lists and dicts are mutable."
      ],
      "metadata": {
        "id": "iFu5BKyWw98T"
      }
    },
    {
      "cell_type": "markdown",
      "source": [
        "\n",
        "\n",
        "```\n",
        "# This is formatted as code\n",
        "```\n",
        "\n",
        "**Task3**:\n",
        "\n",
        "What is a numpy array? Why would we ever use one over a list or dict?"
      ],
      "metadata": {
        "id": "56v05s45yBHk"
      }
    },
    {
      "cell_type": "markdown",
      "source": [
        "It is an array in which it will make sure that all of the indexes within are all the same type. We would use a numpy array over a list or a dict whenever the data set is constantly updated and it is one where we want all the elements of the list to be the same type. Using a numpy array, this is possible because the elements of the list are changed and converted into a different type to make sure that all of the elements are the same type."
      ],
      "metadata": {
        "id": "eikgxyNzyLTY"
      }
    },
    {
      "cell_type": "markdown",
      "source": [
        "**Task4**:\n",
        "\n",
        "What is a pandas dataframe? Why would we ever want to use one over a numpy array?"
      ],
      "metadata": {
        "id": "RLaEQ5irywBl"
      }
    },
    {
      "cell_type": "markdown",
      "source": [
        "A pandas dataframe is a different way to view an array. The information within them is more organized and viewable. We would want to use a pandas dataframe over a numpy array because the information is easy to view and it can be transfered to a spreadsheet."
      ],
      "metadata": {
        "id": "5IkNlzYpy-HP"
      }
    },
    {
      "cell_type": "markdown",
      "source": [
        "\n",
        "\n",
        "```\n",
        "# This is formatted as code\n",
        "```\n",
        "\n",
        "**Task5**:\n",
        "\n",
        "What are for loops, and why would we ever use them?"
      ],
      "metadata": {
        "id": "khRn2d7qz1Y2"
      }
    },
    {
      "cell_type": "markdown",
      "source": [
        "A for loop is a loop that is continousily reiterated until a condition has been satiisfied. We would use them in situation where we want to go through an array or some type of list until we satisfy a certain condition such as  my_list[1] = 'hair', and we would want to return hair for a certain use or whatever."
      ],
      "metadata": {
        "id": "NAdVfRZB1d9J"
      }
    }
  ]
}